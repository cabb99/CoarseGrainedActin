{
 "cells": [
  {
   "cell_type": "code",
   "execution_count": 1,
   "id": "f72dc269",
   "metadata": {},
   "outputs": [],
   "source": [
    "import glob\n",
    "import pandas as pd\n",
    "import os\n",
    "import matplotlib.pyplot as plt\n",
    "import seaborn as sns\n",
    "import numpy as np\n",
    "import pyemma\n",
    "import mdtraj\n",
    "import scipy.spatial.distance as sdist\n",
    "import numpy as np\n",
    "import prody\n",
    "import itertools\n",
    "import scipy.optimize"
   ]
  },
  {
   "cell_type": "code",
   "execution_count": 2,
   "id": "11984f87",
   "metadata": {},
   "outputs": [
    {
     "data": {
      "text/html": [
       "<div>\n",
       "<style scoped>\n",
       "    .dataframe tbody tr th:only-of-type {\n",
       "        vertical-align: middle;\n",
       "    }\n",
       "\n",
       "    .dataframe tbody tr th {\n",
       "        vertical-align: top;\n",
       "    }\n",
       "\n",
       "    .dataframe thead th {\n",
       "        text-align: right;\n",
       "    }\n",
       "</style>\n",
       "<table border=\"1\" class=\"dataframe\">\n",
       "  <thead>\n",
       "    <tr style=\"text-align: right;\">\n",
       "      <th></th>\n",
       "      <th>epsilon</th>\n",
       "      <th>root</th>\n",
       "      <th>w1</th>\n",
       "      <th>w2_ratio</th>\n",
       "      <th>aligned</th>\n",
       "      <th>monomers</th>\n",
       "      <th>disorder</th>\n",
       "      <th>box_size</th>\n",
       "      <th>n_actins</th>\n",
       "      <th>n_abps</th>\n",
       "      <th>...</th>\n",
       "      <th>SLURM_JOB_ACCOUNT</th>\n",
       "      <th>SLURM_JOB_NUM_NODES</th>\n",
       "      <th>test_run</th>\n",
       "      <th>date</th>\n",
       "      <th>name</th>\n",
       "      <th>job_id</th>\n",
       "      <th>param</th>\n",
       "      <th>cif</th>\n",
       "      <th>dcd</th>\n",
       "      <th>log</th>\n",
       "    </tr>\n",
       "  </thead>\n",
       "  <tbody>\n",
       "    <tr>\n",
       "      <th>0</th>\n",
       "      <td>100.0</td>\n",
       "      <td>/media/cb/SATA8TB/Simulations_August2022/Box/E...</td>\n",
       "      <td>1.0</td>\n",
       "      <td>0.1</td>\n",
       "      <td>False</td>\n",
       "      <td>225</td>\n",
       "      <td>0</td>\n",
       "      <td>5000</td>\n",
       "      <td>3</td>\n",
       "      <td>128</td>\n",
       "      <td>...</td>\n",
       "      <td>commons</td>\n",
       "      <td>1</td>\n",
       "      <td>False</td>\n",
       "      <td>2022_08_26</td>\n",
       "      <td>Simulations/Box/Epsilon_BoxFAS_007_e_100_w_1.0...</td>\n",
       "      <td>7</td>\n",
       "      <td>/media/cb/SATA8TB/Simulations_August2022/Box/E...</td>\n",
       "      <td>/media/cb/SATA8TB/Simulations_August2022/Box/E...</td>\n",
       "      <td>/media/cb/SATA8TB/Simulations_August2022/Box/E...</td>\n",
       "      <td>/media/cb/SATA8TB/Simulations_August2022/Box/E...</td>\n",
       "    </tr>\n",
       "    <tr>\n",
       "      <th>1</th>\n",
       "      <td>100.0</td>\n",
       "      <td>/media/cb/SATA8TB/Simulations_August2022/Box/E...</td>\n",
       "      <td>1.0</td>\n",
       "      <td>0.1</td>\n",
       "      <td>False</td>\n",
       "      <td>225</td>\n",
       "      <td>0</td>\n",
       "      <td>5000</td>\n",
       "      <td>3</td>\n",
       "      <td>128</td>\n",
       "      <td>...</td>\n",
       "      <td>commons</td>\n",
       "      <td>1</td>\n",
       "      <td>False</td>\n",
       "      <td>2022_08_26</td>\n",
       "      <td>Simulations/Box/Epsilon_BoxFAS_002_e_100_w_1.0...</td>\n",
       "      <td>2</td>\n",
       "      <td>/media/cb/SATA8TB/Simulations_August2022/Box/E...</td>\n",
       "      <td>/media/cb/SATA8TB/Simulations_August2022/Box/E...</td>\n",
       "      <td>/media/cb/SATA8TB/Simulations_August2022/Box/E...</td>\n",
       "      <td>/media/cb/SATA8TB/Simulations_August2022/Box/E...</td>\n",
       "    </tr>\n",
       "    <tr>\n",
       "      <th>2</th>\n",
       "      <td>100.0</td>\n",
       "      <td>/media/cb/SATA8TB/Simulations_August2022/Box/E...</td>\n",
       "      <td>1.0</td>\n",
       "      <td>0.1</td>\n",
       "      <td>False</td>\n",
       "      <td>225</td>\n",
       "      <td>0</td>\n",
       "      <td>5000</td>\n",
       "      <td>3</td>\n",
       "      <td>128</td>\n",
       "      <td>...</td>\n",
       "      <td>commons</td>\n",
       "      <td>1</td>\n",
       "      <td>False</td>\n",
       "      <td>2022_08_26</td>\n",
       "      <td>Simulations/Box/Epsilon_BoxFAS_001_e_100_w_1.0...</td>\n",
       "      <td>1</td>\n",
       "      <td>/media/cb/SATA8TB/Simulations_August2022/Box/E...</td>\n",
       "      <td>/media/cb/SATA8TB/Simulations_August2022/Box/E...</td>\n",
       "      <td>/media/cb/SATA8TB/Simulations_August2022/Box/E...</td>\n",
       "      <td>/media/cb/SATA8TB/Simulations_August2022/Box/E...</td>\n",
       "    </tr>\n",
       "    <tr>\n",
       "      <th>3</th>\n",
       "      <td>100.0</td>\n",
       "      <td>/media/cb/SATA8TB/Simulations_August2022/Box/E...</td>\n",
       "      <td>1.0</td>\n",
       "      <td>0.1</td>\n",
       "      <td>False</td>\n",
       "      <td>225</td>\n",
       "      <td>0</td>\n",
       "      <td>5000</td>\n",
       "      <td>3</td>\n",
       "      <td>128</td>\n",
       "      <td>...</td>\n",
       "      <td>commons</td>\n",
       "      <td>1</td>\n",
       "      <td>False</td>\n",
       "      <td>2022_08_26</td>\n",
       "      <td>Simulations/Box/Epsilon_BoxFAS_003_e_100_w_1.0...</td>\n",
       "      <td>3</td>\n",
       "      <td>/media/cb/SATA8TB/Simulations_August2022/Box/E...</td>\n",
       "      <td>/media/cb/SATA8TB/Simulations_August2022/Box/E...</td>\n",
       "      <td>/media/cb/SATA8TB/Simulations_August2022/Box/E...</td>\n",
       "      <td>/media/cb/SATA8TB/Simulations_August2022/Box/E...</td>\n",
       "    </tr>\n",
       "    <tr>\n",
       "      <th>4</th>\n",
       "      <td>100.0</td>\n",
       "      <td>/media/cb/SATA8TB/Simulations_August2022/Box/E...</td>\n",
       "      <td>1.0</td>\n",
       "      <td>0.1</td>\n",
       "      <td>False</td>\n",
       "      <td>225</td>\n",
       "      <td>0</td>\n",
       "      <td>5000</td>\n",
       "      <td>3</td>\n",
       "      <td>128</td>\n",
       "      <td>...</td>\n",
       "      <td>commons</td>\n",
       "      <td>1</td>\n",
       "      <td>False</td>\n",
       "      <td>2022_08_26</td>\n",
       "      <td>Simulations/Box/Epsilon_BoxFAS_004_e_100_w_1.0...</td>\n",
       "      <td>4</td>\n",
       "      <td>/media/cb/SATA8TB/Simulations_August2022/Box/E...</td>\n",
       "      <td>/media/cb/SATA8TB/Simulations_August2022/Box/E...</td>\n",
       "      <td>/media/cb/SATA8TB/Simulations_August2022/Box/E...</td>\n",
       "      <td>/media/cb/SATA8TB/Simulations_August2022/Box/E...</td>\n",
       "    </tr>\n",
       "    <tr>\n",
       "      <th>...</th>\n",
       "      <td>...</td>\n",
       "      <td>...</td>\n",
       "      <td>...</td>\n",
       "      <td>...</td>\n",
       "      <td>...</td>\n",
       "      <td>...</td>\n",
       "      <td>...</td>\n",
       "      <td>...</td>\n",
       "      <td>...</td>\n",
       "      <td>...</td>\n",
       "      <td>...</td>\n",
       "      <td>...</td>\n",
       "      <td>...</td>\n",
       "      <td>...</td>\n",
       "      <td>...</td>\n",
       "      <td>...</td>\n",
       "      <td>...</td>\n",
       "      <td>...</td>\n",
       "      <td>...</td>\n",
       "      <td>...</td>\n",
       "      <td>...</td>\n",
       "    </tr>\n",
       "    <tr>\n",
       "      <th>67</th>\n",
       "      <td>200.0</td>\n",
       "      <td>/media/cb/SATA8TB/Simulations_August2022/Box/E...</td>\n",
       "      <td>3.0</td>\n",
       "      <td>0.1</td>\n",
       "      <td>False</td>\n",
       "      <td>225</td>\n",
       "      <td>0</td>\n",
       "      <td>5000</td>\n",
       "      <td>3</td>\n",
       "      <td>128</td>\n",
       "      <td>...</td>\n",
       "      <td>commons</td>\n",
       "      <td>1</td>\n",
       "      <td>False</td>\n",
       "      <td>2022_08_26</td>\n",
       "      <td>Simulations/Box/Epsilon_BoxFAS_069_e_200_w_3.0...</td>\n",
       "      <td>69</td>\n",
       "      <td>/media/cb/SATA8TB/Simulations_August2022/Box/E...</td>\n",
       "      <td>/media/cb/SATA8TB/Simulations_August2022/Box/E...</td>\n",
       "      <td>/media/cb/SATA8TB/Simulations_August2022/Box/E...</td>\n",
       "      <td>/media/cb/SATA8TB/Simulations_August2022/Box/E...</td>\n",
       "    </tr>\n",
       "    <tr>\n",
       "      <th>68</th>\n",
       "      <td>200.0</td>\n",
       "      <td>/media/cb/SATA8TB/Simulations_August2022/Box/E...</td>\n",
       "      <td>3.0</td>\n",
       "      <td>0.1</td>\n",
       "      <td>False</td>\n",
       "      <td>225</td>\n",
       "      <td>0</td>\n",
       "      <td>5000</td>\n",
       "      <td>3</td>\n",
       "      <td>128</td>\n",
       "      <td>...</td>\n",
       "      <td>commons</td>\n",
       "      <td>1</td>\n",
       "      <td>False</td>\n",
       "      <td>2022_08_26</td>\n",
       "      <td>Simulations/Box/Epsilon_BoxFAS_065_e_200_w_3.0...</td>\n",
       "      <td>65</td>\n",
       "      <td>/media/cb/SATA8TB/Simulations_August2022/Box/E...</td>\n",
       "      <td>/media/cb/SATA8TB/Simulations_August2022/Box/E...</td>\n",
       "      <td>/media/cb/SATA8TB/Simulations_August2022/Box/E...</td>\n",
       "      <td>/media/cb/SATA8TB/Simulations_August2022/Box/E...</td>\n",
       "    </tr>\n",
       "    <tr>\n",
       "      <th>69</th>\n",
       "      <td>200.0</td>\n",
       "      <td>/media/cb/SATA8TB/Simulations_August2022/Box/E...</td>\n",
       "      <td>3.0</td>\n",
       "      <td>0.1</td>\n",
       "      <td>False</td>\n",
       "      <td>225</td>\n",
       "      <td>0</td>\n",
       "      <td>5000</td>\n",
       "      <td>3</td>\n",
       "      <td>128</td>\n",
       "      <td>...</td>\n",
       "      <td>commons</td>\n",
       "      <td>1</td>\n",
       "      <td>False</td>\n",
       "      <td>2022_08_26</td>\n",
       "      <td>Simulations/Box/Epsilon_BoxFAS_071_e_200_w_3.0...</td>\n",
       "      <td>71</td>\n",
       "      <td>/media/cb/SATA8TB/Simulations_August2022/Box/E...</td>\n",
       "      <td>/media/cb/SATA8TB/Simulations_August2022/Box/E...</td>\n",
       "      <td>/media/cb/SATA8TB/Simulations_August2022/Box/E...</td>\n",
       "      <td>/media/cb/SATA8TB/Simulations_August2022/Box/E...</td>\n",
       "    </tr>\n",
       "    <tr>\n",
       "      <th>70</th>\n",
       "      <td>200.0</td>\n",
       "      <td>/media/cb/SATA8TB/Simulations_August2022/Box/E...</td>\n",
       "      <td>3.0</td>\n",
       "      <td>0.1</td>\n",
       "      <td>False</td>\n",
       "      <td>225</td>\n",
       "      <td>0</td>\n",
       "      <td>5000</td>\n",
       "      <td>3</td>\n",
       "      <td>128</td>\n",
       "      <td>...</td>\n",
       "      <td>commons</td>\n",
       "      <td>1</td>\n",
       "      <td>False</td>\n",
       "      <td>2022_08_26</td>\n",
       "      <td>Simulations/Box/Epsilon_BoxFAS_070_e_200_w_3.0...</td>\n",
       "      <td>70</td>\n",
       "      <td>/media/cb/SATA8TB/Simulations_August2022/Box/E...</td>\n",
       "      <td>/media/cb/SATA8TB/Simulations_August2022/Box/E...</td>\n",
       "      <td>/media/cb/SATA8TB/Simulations_August2022/Box/E...</td>\n",
       "      <td>/media/cb/SATA8TB/Simulations_August2022/Box/E...</td>\n",
       "    </tr>\n",
       "    <tr>\n",
       "      <th>71</th>\n",
       "      <td>200.0</td>\n",
       "      <td>/media/cb/SATA8TB/Simulations_August2022/Box/E...</td>\n",
       "      <td>3.0</td>\n",
       "      <td>0.1</td>\n",
       "      <td>False</td>\n",
       "      <td>225</td>\n",
       "      <td>0</td>\n",
       "      <td>5000</td>\n",
       "      <td>3</td>\n",
       "      <td>128</td>\n",
       "      <td>...</td>\n",
       "      <td>commons</td>\n",
       "      <td>1</td>\n",
       "      <td>False</td>\n",
       "      <td>2022_08_26</td>\n",
       "      <td>Simulations/Box/Epsilon_BoxFAS_067_e_200_w_3.0...</td>\n",
       "      <td>67</td>\n",
       "      <td>/media/cb/SATA8TB/Simulations_August2022/Box/E...</td>\n",
       "      <td>/media/cb/SATA8TB/Simulations_August2022/Box/E...</td>\n",
       "      <td>/media/cb/SATA8TB/Simulations_August2022/Box/E...</td>\n",
       "      <td>/media/cb/SATA8TB/Simulations_August2022/Box/E...</td>\n",
       "    </tr>\n",
       "  </tbody>\n",
       "</table>\n",
       "<p>72 rows × 64 columns</p>\n",
       "</div>"
      ],
      "text/plain": [
       "    epsilon                                               root   w1  w2_ratio  \\\n",
       "0     100.0  /media/cb/SATA8TB/Simulations_August2022/Box/E...  1.0       0.1   \n",
       "1     100.0  /media/cb/SATA8TB/Simulations_August2022/Box/E...  1.0       0.1   \n",
       "2     100.0  /media/cb/SATA8TB/Simulations_August2022/Box/E...  1.0       0.1   \n",
       "3     100.0  /media/cb/SATA8TB/Simulations_August2022/Box/E...  1.0       0.1   \n",
       "4     100.0  /media/cb/SATA8TB/Simulations_August2022/Box/E...  1.0       0.1   \n",
       "..      ...                                                ...  ...       ...   \n",
       "67    200.0  /media/cb/SATA8TB/Simulations_August2022/Box/E...  3.0       0.1   \n",
       "68    200.0  /media/cb/SATA8TB/Simulations_August2022/Box/E...  3.0       0.1   \n",
       "69    200.0  /media/cb/SATA8TB/Simulations_August2022/Box/E...  3.0       0.1   \n",
       "70    200.0  /media/cb/SATA8TB/Simulations_August2022/Box/E...  3.0       0.1   \n",
       "71    200.0  /media/cb/SATA8TB/Simulations_August2022/Box/E...  3.0       0.1   \n",
       "\n",
       "   aligned monomers disorder box_size n_actins n_abps  ... SLURM_JOB_ACCOUNT  \\\n",
       "0    False      225        0     5000        3    128  ...           commons   \n",
       "1    False      225        0     5000        3    128  ...           commons   \n",
       "2    False      225        0     5000        3    128  ...           commons   \n",
       "3    False      225        0     5000        3    128  ...           commons   \n",
       "4    False      225        0     5000        3    128  ...           commons   \n",
       "..     ...      ...      ...      ...      ...    ...  ...               ...   \n",
       "67   False      225        0     5000        3    128  ...           commons   \n",
       "68   False      225        0     5000        3    128  ...           commons   \n",
       "69   False      225        0     5000        3    128  ...           commons   \n",
       "70   False      225        0     5000        3    128  ...           commons   \n",
       "71   False      225        0     5000        3    128  ...           commons   \n",
       "\n",
       "   SLURM_JOB_NUM_NODES test_run        date  \\\n",
       "0                    1    False  2022_08_26   \n",
       "1                    1    False  2022_08_26   \n",
       "2                    1    False  2022_08_26   \n",
       "3                    1    False  2022_08_26   \n",
       "4                    1    False  2022_08_26   \n",
       "..                 ...      ...         ...   \n",
       "67                   1    False  2022_08_26   \n",
       "68                   1    False  2022_08_26   \n",
       "69                   1    False  2022_08_26   \n",
       "70                   1    False  2022_08_26   \n",
       "71                   1    False  2022_08_26   \n",
       "\n",
       "                                                 name job_id  \\\n",
       "0   Simulations/Box/Epsilon_BoxFAS_007_e_100_w_1.0...      7   \n",
       "1   Simulations/Box/Epsilon_BoxFAS_002_e_100_w_1.0...      2   \n",
       "2   Simulations/Box/Epsilon_BoxFAS_001_e_100_w_1.0...      1   \n",
       "3   Simulations/Box/Epsilon_BoxFAS_003_e_100_w_1.0...      3   \n",
       "4   Simulations/Box/Epsilon_BoxFAS_004_e_100_w_1.0...      4   \n",
       "..                                                ...    ...   \n",
       "67  Simulations/Box/Epsilon_BoxFAS_069_e_200_w_3.0...     69   \n",
       "68  Simulations/Box/Epsilon_BoxFAS_065_e_200_w_3.0...     65   \n",
       "69  Simulations/Box/Epsilon_BoxFAS_071_e_200_w_3.0...     71   \n",
       "70  Simulations/Box/Epsilon_BoxFAS_070_e_200_w_3.0...     70   \n",
       "71  Simulations/Box/Epsilon_BoxFAS_067_e_200_w_3.0...     67   \n",
       "\n",
       "                                                param  \\\n",
       "0   /media/cb/SATA8TB/Simulations_August2022/Box/E...   \n",
       "1   /media/cb/SATA8TB/Simulations_August2022/Box/E...   \n",
       "2   /media/cb/SATA8TB/Simulations_August2022/Box/E...   \n",
       "3   /media/cb/SATA8TB/Simulations_August2022/Box/E...   \n",
       "4   /media/cb/SATA8TB/Simulations_August2022/Box/E...   \n",
       "..                                                ...   \n",
       "67  /media/cb/SATA8TB/Simulations_August2022/Box/E...   \n",
       "68  /media/cb/SATA8TB/Simulations_August2022/Box/E...   \n",
       "69  /media/cb/SATA8TB/Simulations_August2022/Box/E...   \n",
       "70  /media/cb/SATA8TB/Simulations_August2022/Box/E...   \n",
       "71  /media/cb/SATA8TB/Simulations_August2022/Box/E...   \n",
       "\n",
       "                                                  cif  \\\n",
       "0   /media/cb/SATA8TB/Simulations_August2022/Box/E...   \n",
       "1   /media/cb/SATA8TB/Simulations_August2022/Box/E...   \n",
       "2   /media/cb/SATA8TB/Simulations_August2022/Box/E...   \n",
       "3   /media/cb/SATA8TB/Simulations_August2022/Box/E...   \n",
       "4   /media/cb/SATA8TB/Simulations_August2022/Box/E...   \n",
       "..                                                ...   \n",
       "67  /media/cb/SATA8TB/Simulations_August2022/Box/E...   \n",
       "68  /media/cb/SATA8TB/Simulations_August2022/Box/E...   \n",
       "69  /media/cb/SATA8TB/Simulations_August2022/Box/E...   \n",
       "70  /media/cb/SATA8TB/Simulations_August2022/Box/E...   \n",
       "71  /media/cb/SATA8TB/Simulations_August2022/Box/E...   \n",
       "\n",
       "                                                  dcd  \\\n",
       "0   /media/cb/SATA8TB/Simulations_August2022/Box/E...   \n",
       "1   /media/cb/SATA8TB/Simulations_August2022/Box/E...   \n",
       "2   /media/cb/SATA8TB/Simulations_August2022/Box/E...   \n",
       "3   /media/cb/SATA8TB/Simulations_August2022/Box/E...   \n",
       "4   /media/cb/SATA8TB/Simulations_August2022/Box/E...   \n",
       "..                                                ...   \n",
       "67  /media/cb/SATA8TB/Simulations_August2022/Box/E...   \n",
       "68  /media/cb/SATA8TB/Simulations_August2022/Box/E...   \n",
       "69  /media/cb/SATA8TB/Simulations_August2022/Box/E...   \n",
       "70  /media/cb/SATA8TB/Simulations_August2022/Box/E...   \n",
       "71  /media/cb/SATA8TB/Simulations_August2022/Box/E...   \n",
       "\n",
       "                                                  log  \n",
       "0   /media/cb/SATA8TB/Simulations_August2022/Box/E...  \n",
       "1   /media/cb/SATA8TB/Simulations_August2022/Box/E...  \n",
       "2   /media/cb/SATA8TB/Simulations_August2022/Box/E...  \n",
       "3   /media/cb/SATA8TB/Simulations_August2022/Box/E...  \n",
       "4   /media/cb/SATA8TB/Simulations_August2022/Box/E...  \n",
       "..                                                ...  \n",
       "67  /media/cb/SATA8TB/Simulations_August2022/Box/E...  \n",
       "68  /media/cb/SATA8TB/Simulations_August2022/Box/E...  \n",
       "69  /media/cb/SATA8TB/Simulations_August2022/Box/E...  \n",
       "70  /media/cb/SATA8TB/Simulations_August2022/Box/E...  \n",
       "71  /media/cb/SATA8TB/Simulations_August2022/Box/E...  \n",
       "\n",
       "[72 rows x 64 columns]"
      ]
     },
     "execution_count": 2,
     "metadata": {},
     "output_type": "execute_result"
    }
   ],
   "source": [
    "#List simulation files\n",
    "data=[]\n",
    "param_files=glob.glob('/media/cb/SATA8TB/Simulations_August2022/Box/*.param')\n",
    "for param_file in param_files:\n",
    "    #Add parameters\n",
    "    with open(param_file) as param:\n",
    "        values={}\n",
    "        for line in param:\n",
    "            if len(line)==0:\n",
    "                continue\n",
    "            line=line.strip().split(',')\n",
    "            key=line[0]\n",
    "            value=line[1]\n",
    "            if key=='':\n",
    "                continue\n",
    "            values.update({key:value})\n",
    "            root='.'.join(param_file.split('.')[:-1])\n",
    "            values.update({'root':root})\n",
    "    #Add files\n",
    "    for extension in ['param','cif','pdb','dcd','log']:\n",
    "        file_name=f'{root}.{extension}'\n",
    "        if os.path.exists(file_name):\n",
    "            values.update({extension:file_name})\n",
    "    data+=[values]\n",
    "    \n",
    "simulations=pd.DataFrame(data)\n",
    "simulations[['epsilon','w1','w2_ratio']]=simulations[['epsilon','w1','w2_ratio']].astype(float)\n",
    "\n",
    "simulations=simulations.sort_values(['epsilon','w1','w2_ratio'])\n",
    "simulations=simulations.reindex()\n",
    "simulations=simulations.reset_index(drop=True)\n",
    "simulations"
   ]
  },
  {
   "cell_type": "code",
   "execution_count": 21,
   "id": "5fc9350c",
   "metadata": {
    "scrolled": true
   },
   "outputs": [
    {
     "name": "stderr",
     "output_type": "stream",
     "text": [
      "@> 2982 atoms and 1 coordinate set(s) were parsed in 0.03s.\n",
      "@> 2982 atoms and 1 coordinate set(s) were parsed in 0.03s.\n"
     ]
    },
    {
     "name": "stdout",
     "output_type": "stream",
     "text": [
      "/media/cb/SATA8TB/Simulations_August2022/Box/Epsilon_BoxFAS_007_e_100_w_1.0_r_7 838\n"
     ]
    },
    {
     "name": "stderr",
     "output_type": "stream",
     "text": [
      "/home/cb/miniconda3/envs/openmm_dev/lib/python3.6/site-packages/ipykernel_launcher.py:45: RuntimeWarning: overflow encountered in square\n",
      "/home/cb/miniconda3/envs/openmm_dev/lib/python3.6/site-packages/ipykernel_launcher.py:46: RuntimeWarning: overflow encountered in square\n",
      "@> 2982 atoms and 1 coordinate set(s) were parsed in 0.02s.\n",
      "/home/cb/miniconda3/envs/openmm_dev/lib/python3.6/site-packages/numpy/core/_methods.py:47: RuntimeWarning: overflow encountered in reduce\n",
      "  return umr_sum(a, axis, dtype, out, keepdims, initial, where)\n",
      "/home/cb/miniconda3/envs/openmm_dev/lib/python3.6/site-packages/ipykernel_launcher.py:46: RuntimeWarning: overflow encountered in add\n",
      "@> 2982 atoms and 1 coordinate set(s) were parsed in 0.02s.\n",
      "@> 2982 atoms and 1 coordinate set(s) were parsed in 0.03s.\n",
      "@> 2982 atoms and 1 coordinate set(s) were parsed in 0.03s.\n"
     ]
    },
    {
     "name": "stdout",
     "output_type": "stream",
     "text": [
      "/media/cb/SATA8TB/Simulations_August2022/Box/Epsilon_BoxFAS_003_e_100_w_1.0_r_3 532\n",
      "/media/cb/SATA8TB/Simulations_August2022/Box/Epsilon_BoxFAS_004_e_100_w_1.0_r_4 449\n"
     ]
    },
    {
     "name": "stderr",
     "output_type": "stream",
     "text": [
      "/home/cb/miniconda3/envs/openmm_dev/lib/python3.6/site-packages/ipykernel_launcher.py:50: RuntimeWarning: overflow encountered in true_divide\n",
      "@> 2982 atoms and 1 coordinate set(s) were parsed in 0.02s.\n",
      "@> 2982 atoms and 1 coordinate set(s) were parsed in 0.03s.\n"
     ]
    },
    {
     "name": "stdout",
     "output_type": "stream",
     "text": [
      "/media/cb/SATA8TB/Simulations_August2022/Box/Epsilon_BoxFAS_000_e_100_w_1.0_r_0 595\n"
     ]
    },
    {
     "name": "stderr",
     "output_type": "stream",
     "text": [
      "/home/cb/miniconda3/envs/openmm_dev/lib/python3.6/site-packages/ipykernel_launcher.py:89: UserWarning: FixedFormatter should only be used together with FixedLocator\n",
      "/home/cb/miniconda3/envs/openmm_dev/lib/python3.6/site-packages/ipykernel_launcher.py:112: RuntimeWarning: invalid value encountered in true_divide\n",
      "@> 2982 atoms and 1 coordinate set(s) were parsed in 0.03s.\n",
      "/home/cb/miniconda3/envs/openmm_dev/lib/python3.6/site-packages/ipykernel_launcher.py:45: RuntimeWarning: overflow encountered in square\n",
      "/home/cb/miniconda3/envs/openmm_dev/lib/python3.6/site-packages/ipykernel_launcher.py:46: RuntimeWarning: overflow encountered in square\n",
      "@> 2982 atoms and 1 coordinate set(s) were parsed in 0.02s.\n",
      "/home/cb/miniconda3/envs/openmm_dev/lib/python3.6/site-packages/numpy/core/_methods.py:47: RuntimeWarning: overflow encountered in reduce\n",
      "  return umr_sum(a, axis, dtype, out, keepdims, initial, where)\n",
      "/home/cb/miniconda3/envs/openmm_dev/lib/python3.6/site-packages/ipykernel_launcher.py:46: RuntimeWarning: overflow encountered in add\n",
      "/home/cb/miniconda3/envs/openmm_dev/lib/python3.6/site-packages/ipykernel_launcher.py:49: RuntimeWarning: overflow encountered in add\n",
      "/home/cb/miniconda3/envs/openmm_dev/lib/python3.6/site-packages/ipykernel_launcher.py:50: RuntimeWarning: overflow encountered in true_divide\n",
      "@> 2982 atoms and 1 coordinate set(s) were parsed in 0.02s.\n",
      "@> 2982 atoms and 1 coordinate set(s) were parsed in 0.03s.\n",
      "@> 2982 atoms and 1 coordinate set(s) were parsed in 0.02s.\n",
      "@> 2982 atoms and 1 coordinate set(s) were parsed in 0.02s.\n"
     ]
    },
    {
     "name": "stdout",
     "output_type": "stream",
     "text": [
      "/media/cb/SATA8TB/Simulations_August2022/Box/Epsilon_BoxFAS_014_e_100_w_2.0_r_6 833\n",
      "/media/cb/SATA8TB/Simulations_August2022/Box/Epsilon_BoxFAS_009_e_100_w_2.0_r_1 757\n",
      "/media/cb/SATA8TB/Simulations_August2022/Box/Epsilon_BoxFAS_008_e_100_w_2.0_r_0 671\n"
     ]
    },
    {
     "name": "stderr",
     "output_type": "stream",
     "text": [
      "@> 2982 atoms and 1 coordinate set(s) were parsed in 0.02s.\n",
      "@> 2982 atoms and 1 coordinate set(s) were parsed in 0.03s.\n",
      "@> 2982 atoms and 1 coordinate set(s) were parsed in 0.02s.\n"
     ]
    },
    {
     "name": "stdout",
     "output_type": "stream",
     "text": [
      "/media/cb/SATA8TB/Simulations_August2022/Box/Epsilon_BoxFAS_013_e_100_w_2.0_r_5 657\n",
      "/media/cb/SATA8TB/Simulations_August2022/Box/Epsilon_BoxFAS_012_e_100_w_2.0_r_4 489\n"
     ]
    },
    {
     "name": "stderr",
     "output_type": "stream",
     "text": [
      "@> 2982 atoms and 1 coordinate set(s) were parsed in 0.02s.\n"
     ]
    },
    {
     "name": "stdout",
     "output_type": "stream",
     "text": [
      "/media/cb/SATA8TB/Simulations_August2022/Box/Epsilon_BoxFAS_018_e_100_w_3.0_r_2 762\n"
     ]
    },
    {
     "name": "stderr",
     "output_type": "stream",
     "text": [
      "@> 2982 atoms and 1 coordinate set(s) were parsed in 0.03s.\n",
      "@> 2982 atoms and 1 coordinate set(s) were parsed in 0.02s.\n",
      "@> 2982 atoms and 1 coordinate set(s) were parsed in 0.03s.\n"
     ]
    },
    {
     "name": "stdout",
     "output_type": "stream",
     "text": [
      "/media/cb/SATA8TB/Simulations_August2022/Box/Epsilon_BoxFAS_019_e_100_w_3.0_r_3 712\n"
     ]
    },
    {
     "name": "stderr",
     "output_type": "stream",
     "text": [
      "@> 2982 atoms and 1 coordinate set(s) were parsed in 0.03s.\n",
      "@> 2982 atoms and 1 coordinate set(s) were parsed in 0.02s.\n"
     ]
    },
    {
     "name": "stdout",
     "output_type": "stream",
     "text": [
      "/media/cb/SATA8TB/Simulations_August2022/Box/Epsilon_BoxFAS_023_e_100_w_3.0_r_7 836\n"
     ]
    },
    {
     "name": "stderr",
     "output_type": "stream",
     "text": [
      "@> 2982 atoms and 1 coordinate set(s) were parsed in 0.02s.\n",
      "@> 2982 atoms and 1 coordinate set(s) were parsed in 0.02s.\n",
      "@> 2982 atoms and 1 coordinate set(s) were parsed in 0.03s.\n",
      "@> 2982 atoms and 1 coordinate set(s) were parsed in 0.03s.\n"
     ]
    },
    {
     "name": "stdout",
     "output_type": "stream",
     "text": [
      "/media/cb/SATA8TB/Simulations_August2022/Box/Epsilon_BoxFAS_028_e_150_w_1.0_r_4 407\n",
      "/media/cb/SATA8TB/Simulations_August2022/Box/Epsilon_BoxFAS_030_e_150_w_1.0_r_6 370\n"
     ]
    },
    {
     "name": "stderr",
     "output_type": "stream",
     "text": [
      "@> 2982 atoms and 1 coordinate set(s) were parsed in 0.02s.\n",
      "@> 2982 atoms and 1 coordinate set(s) were parsed in 0.03s.\n",
      "@> 2982 atoms and 1 coordinate set(s) were parsed in 0.02s.\n"
     ]
    },
    {
     "name": "stdout",
     "output_type": "stream",
     "text": [
      "/media/cb/SATA8TB/Simulations_August2022/Box/Epsilon_BoxFAS_024_e_150_w_1.0_r_0 355\n",
      "/media/cb/SATA8TB/Simulations_August2022/Box/Epsilon_BoxFAS_027_e_150_w_1.0_r_3 274\n",
      "/media/cb/SATA8TB/Simulations_August2022/Box/Epsilon_BoxFAS_026_e_150_w_1.0_r_2 297\n"
     ]
    },
    {
     "name": "stderr",
     "output_type": "stream",
     "text": [
      "@> 2982 atoms and 1 coordinate set(s) were parsed in 0.03s.\n",
      "@> 2982 atoms and 1 coordinate set(s) were parsed in 0.02s.\n",
      "@> 2982 atoms and 1 coordinate set(s) were parsed in 0.02s.\n"
     ]
    },
    {
     "name": "stdout",
     "output_type": "stream",
     "text": [
      "/media/cb/SATA8TB/Simulations_August2022/Box/Epsilon_BoxFAS_031_e_150_w_1.0_r_7 492\n",
      "/media/cb/SATA8TB/Simulations_August2022/Box/Epsilon_BoxFAS_025_e_150_w_1.0_r_1 866\n",
      "/media/cb/SATA8TB/Simulations_August2022/Box/Epsilon_BoxFAS_029_e_150_w_1.0_r_5 387\n"
     ]
    },
    {
     "name": "stderr",
     "output_type": "stream",
     "text": [
      "@> 2982 atoms and 1 coordinate set(s) were parsed in 0.02s.\n",
      "@> 2982 atoms and 1 coordinate set(s) were parsed in 0.02s.\n",
      "@> 2982 atoms and 1 coordinate set(s) were parsed in 0.02s.\n"
     ]
    },
    {
     "name": "stdout",
     "output_type": "stream",
     "text": [
      "/media/cb/SATA8TB/Simulations_August2022/Box/Epsilon_BoxFAS_032_e_150_w_2.0_r_0 991\n",
      "/media/cb/SATA8TB/Simulations_August2022/Box/Epsilon_BoxFAS_039_e_150_w_2.0_r_7 804\n"
     ]
    },
    {
     "name": "stderr",
     "output_type": "stream",
     "text": [
      "@> 2982 atoms and 1 coordinate set(s) were parsed in 0.02s.\n",
      "@> 2982 atoms and 1 coordinate set(s) were parsed in 0.02s.\n",
      "@> 2982 atoms and 1 coordinate set(s) were parsed in 0.02s.\n"
     ]
    },
    {
     "name": "stdout",
     "output_type": "stream",
     "text": [
      "/media/cb/SATA8TB/Simulations_August2022/Box/Epsilon_BoxFAS_038_e_150_w_2.0_r_6 543\n",
      "/media/cb/SATA8TB/Simulations_August2022/Box/Epsilon_BoxFAS_034_e_150_w_2.0_r_2 397\n",
      "/media/cb/SATA8TB/Simulations_August2022/Box/Epsilon_BoxFAS_035_e_150_w_2.0_r_3 323\n"
     ]
    },
    {
     "name": "stderr",
     "output_type": "stream",
     "text": [
      "@> 2982 atoms and 1 coordinate set(s) were parsed in 0.03s.\n",
      "@> 2982 atoms and 1 coordinate set(s) were parsed in 0.03s.\n"
     ]
    },
    {
     "name": "stdout",
     "output_type": "stream",
     "text": [
      "/media/cb/SATA8TB/Simulations_August2022/Box/Epsilon_BoxFAS_036_e_150_w_2.0_r_4 529\n",
      "/media/cb/SATA8TB/Simulations_August2022/Box/Epsilon_BoxFAS_033_e_150_w_2.0_r_1 411\n"
     ]
    },
    {
     "name": "stderr",
     "output_type": "stream",
     "text": [
      "@> 2982 atoms and 1 coordinate set(s) were parsed in 0.03s.\n",
      "@> 2982 atoms and 1 coordinate set(s) were parsed in 0.03s.\n",
      "@> 2982 atoms and 1 coordinate set(s) were parsed in 0.02s.\n"
     ]
    },
    {
     "name": "stdout",
     "output_type": "stream",
     "text": [
      "/media/cb/SATA8TB/Simulations_August2022/Box/Epsilon_BoxFAS_045_e_150_w_3.0_r_5 943\n",
      "/media/cb/SATA8TB/Simulations_August2022/Box/Epsilon_BoxFAS_041_e_150_w_3.0_r_1 775\n",
      "/media/cb/SATA8TB/Simulations_August2022/Box/Epsilon_BoxFAS_046_e_150_w_3.0_r_6 418\n"
     ]
    },
    {
     "name": "stderr",
     "output_type": "stream",
     "text": [
      "@> 2982 atoms and 1 coordinate set(s) were parsed in 0.03s.\n",
      "@> 2982 atoms and 1 coordinate set(s) were parsed in 0.02s.\n",
      "@> 2982 atoms and 1 coordinate set(s) were parsed in 0.02s.\n"
     ]
    },
    {
     "name": "stdout",
     "output_type": "stream",
     "text": [
      "/media/cb/SATA8TB/Simulations_August2022/Box/Epsilon_BoxFAS_042_e_150_w_3.0_r_2 303\n",
      "/media/cb/SATA8TB/Simulations_August2022/Box/Epsilon_BoxFAS_043_e_150_w_3.0_r_3 277\n",
      "/media/cb/SATA8TB/Simulations_August2022/Box/Epsilon_BoxFAS_044_e_150_w_3.0_r_4 706\n"
     ]
    },
    {
     "name": "stderr",
     "output_type": "stream",
     "text": [
      "/home/cb/miniconda3/envs/openmm_dev/lib/python3.6/site-packages/ipykernel_launcher.py:89: UserWarning: FixedFormatter should only be used together with FixedLocator\n",
      "/home/cb/miniconda3/envs/openmm_dev/lib/python3.6/site-packages/ipykernel_launcher.py:112: RuntimeWarning: invalid value encountered in true_divide\n",
      "@> 2982 atoms and 1 coordinate set(s) were parsed in 0.03s.\n",
      "@> 2982 atoms and 1 coordinate set(s) were parsed in 0.03s.\n",
      "@> 2982 atoms and 1 coordinate set(s) were parsed in 0.02s.\n"
     ]
    },
    {
     "name": "stdout",
     "output_type": "stream",
     "text": [
      "/media/cb/SATA8TB/Simulations_August2022/Box/Epsilon_BoxFAS_047_e_150_w_3.0_r_7 132\n",
      "/media/cb/SATA8TB/Simulations_August2022/Box/Epsilon_BoxFAS_053_e_200_w_1.0_r_5 545\n"
     ]
    },
    {
     "name": "stderr",
     "output_type": "stream",
     "text": [
      "@> 2982 atoms and 1 coordinate set(s) were parsed in 0.02s.\n",
      "@> 2982 atoms and 1 coordinate set(s) were parsed in 0.03s.\n",
      "@> 2982 atoms and 1 coordinate set(s) were parsed in 0.02s.\n"
     ]
    },
    {
     "name": "stdout",
     "output_type": "stream",
     "text": [
      "/media/cb/SATA8TB/Simulations_August2022/Box/Epsilon_BoxFAS_049_e_200_w_1.0_r_1 283\n",
      "/media/cb/SATA8TB/Simulations_August2022/Box/Epsilon_BoxFAS_055_e_200_w_1.0_r_7 696\n",
      "/media/cb/SATA8TB/Simulations_August2022/Box/Epsilon_BoxFAS_054_e_200_w_1.0_r_6 225\n"
     ]
    },
    {
     "name": "stderr",
     "output_type": "stream",
     "text": [
      "@> 2982 atoms and 1 coordinate set(s) were parsed in 0.02s.\n",
      "@> 2982 atoms and 1 coordinate set(s) were parsed in 0.03s.\n",
      "@> 2982 atoms and 1 coordinate set(s) were parsed in 0.03s.\n"
     ]
    },
    {
     "name": "stdout",
     "output_type": "stream",
     "text": [
      "/media/cb/SATA8TB/Simulations_August2022/Box/Epsilon_BoxFAS_052_e_200_w_1.0_r_4 294\n",
      "/media/cb/SATA8TB/Simulations_August2022/Box/Epsilon_BoxFAS_051_e_200_w_1.0_r_3 227\n",
      "/media/cb/SATA8TB/Simulations_August2022/Box/Epsilon_BoxFAS_050_e_200_w_1.0_r_2 204\n"
     ]
    },
    {
     "name": "stderr",
     "output_type": "stream",
     "text": [
      "@> 2982 atoms and 1 coordinate set(s) were parsed in 0.03s.\n",
      "@> 2982 atoms and 1 coordinate set(s) were parsed in 0.02s.\n",
      "@> 2982 atoms and 1 coordinate set(s) were parsed in 0.02s.\n"
     ]
    },
    {
     "name": "stdout",
     "output_type": "stream",
     "text": [
      "/media/cb/SATA8TB/Simulations_August2022/Box/Epsilon_BoxFAS_048_e_200_w_1.0_r_0 688\n",
      "/media/cb/SATA8TB/Simulations_August2022/Box/Epsilon_BoxFAS_062_e_200_w_2.0_r_6 372\n",
      "/media/cb/SATA8TB/Simulations_August2022/Box/Epsilon_BoxFAS_063_e_200_w_2.0_r_7 490\n"
     ]
    },
    {
     "name": "stderr",
     "output_type": "stream",
     "text": [
      "@> 2982 atoms and 1 coordinate set(s) were parsed in 0.02s.\n",
      "@> 2982 atoms and 1 coordinate set(s) were parsed in 0.02s.\n"
     ]
    },
    {
     "name": "stdout",
     "output_type": "stream",
     "text": [
      "/media/cb/SATA8TB/Simulations_August2022/Box/Epsilon_BoxFAS_059_e_200_w_2.0_r_3 251\n",
      "/media/cb/SATA8TB/Simulations_August2022/Box/Epsilon_BoxFAS_058_e_200_w_2.0_r_2 83\n"
     ]
    },
    {
     "name": "stderr",
     "output_type": "stream",
     "text": [
      "@> 2982 atoms and 1 coordinate set(s) were parsed in 0.02s.\n",
      "@> 2982 atoms and 1 coordinate set(s) were parsed in 0.02s.\n",
      "@> 2982 atoms and 1 coordinate set(s) were parsed in 0.03s.\n"
     ]
    },
    {
     "name": "stdout",
     "output_type": "stream",
     "text": [
      "/media/cb/SATA8TB/Simulations_August2022/Box/Epsilon_BoxFAS_061_e_200_w_2.0_r_5 683\n",
      "/media/cb/SATA8TB/Simulations_August2022/Box/Epsilon_BoxFAS_056_e_200_w_2.0_r_0 292\n",
      "/media/cb/SATA8TB/Simulations_August2022/Box/Epsilon_BoxFAS_060_e_200_w_2.0_r_4 146\n"
     ]
    },
    {
     "name": "stderr",
     "output_type": "stream",
     "text": [
      "@> 2982 atoms and 1 coordinate set(s) were parsed in 0.02s.\n",
      "@> 2982 atoms and 1 coordinate set(s) were parsed in 0.02s.\n"
     ]
    },
    {
     "name": "stdout",
     "output_type": "stream",
     "text": [
      "/media/cb/SATA8TB/Simulations_August2022/Box/Epsilon_BoxFAS_057_e_200_w_2.0_r_1 393\n",
      "/media/cb/SATA8TB/Simulations_August2022/Box/Epsilon_BoxFAS_064_e_200_w_3.0_r_0 526\n"
     ]
    },
    {
     "name": "stderr",
     "output_type": "stream",
     "text": [
      "/home/cb/miniconda3/envs/openmm_dev/lib/python3.6/site-packages/ipykernel_launcher.py:45: RuntimeWarning: overflow encountered in square\n",
      "/home/cb/miniconda3/envs/openmm_dev/lib/python3.6/site-packages/numpy/core/_methods.py:47: RuntimeWarning: overflow encountered in reduce\n",
      "  return umr_sum(a, axis, dtype, out, keepdims, initial, where)\n",
      "/home/cb/miniconda3/envs/openmm_dev/lib/python3.6/site-packages/ipykernel_launcher.py:46: RuntimeWarning: overflow encountered in square\n",
      "/home/cb/miniconda3/envs/openmm_dev/lib/python3.6/site-packages/ipykernel_launcher.py:46: RuntimeWarning: overflow encountered in add\n",
      "@> 2982 atoms and 1 coordinate set(s) were parsed in 0.03s.\n",
      "@> 2982 atoms and 1 coordinate set(s) were parsed in 0.02s.\n",
      "@> 2982 atoms and 1 coordinate set(s) were parsed in 0.03s.\n"
     ]
    },
    {
     "name": "stdout",
     "output_type": "stream",
     "text": [
      "/media/cb/SATA8TB/Simulations_August2022/Box/Epsilon_BoxFAS_066_e_200_w_3.0_r_2 942\n",
      "/media/cb/SATA8TB/Simulations_August2022/Box/Epsilon_BoxFAS_069_e_200_w_3.0_r_5 441\n"
     ]
    },
    {
     "name": "stderr",
     "output_type": "stream",
     "text": [
      "@> 2982 atoms and 1 coordinate set(s) were parsed in 0.02s.\n",
      "@> 2982 atoms and 1 coordinate set(s) were parsed in 0.02s.\n",
      "@> 2982 atoms and 1 coordinate set(s) were parsed in 0.03s.\n"
     ]
    },
    {
     "name": "stdout",
     "output_type": "stream",
     "text": [
      "/media/cb/SATA8TB/Simulations_August2022/Box/Epsilon_BoxFAS_065_e_200_w_3.0_r_1 487\n",
      "/media/cb/SATA8TB/Simulations_August2022/Box/Epsilon_BoxFAS_071_e_200_w_3.0_r_7 881\n",
      "/media/cb/SATA8TB/Simulations_August2022/Box/Epsilon_BoxFAS_070_e_200_w_3.0_r_6 425\n",
      "/media/cb/SATA8TB/Simulations_August2022/Box/Epsilon_BoxFAS_067_e_200_w_3.0_r_3 532\n"
     ]
    },
    {
     "data": {
      "text/plain": [
       "<Figure size 720x360 with 0 Axes>"
      ]
     },
     "metadata": {},
     "output_type": "display_data"
    },
    {
     "data": {
      "text/plain": [
       "<Figure size 720x360 with 0 Axes>"
      ]
     },
     "metadata": {},
     "output_type": "display_data"
    },
    {
     "data": {
      "text/plain": [
       "<Figure size 720x360 with 0 Axes>"
      ]
     },
     "metadata": {},
     "output_type": "display_data"
    },
    {
     "data": {
      "text/plain": [
       "<Figure size 720x360 with 0 Axes>"
      ]
     },
     "metadata": {},
     "output_type": "display_data"
    },
    {
     "data": {
      "image/png": "[encoded data removed]",
      "text/plain": [
       "<Figure size 432x288 with 2 Axes>"
      ]
     },
     "metadata": {
      "needs_background": "light"
     },
     "output_type": "display_data"
    },
    {
     "data": {
      "image/png": "[encoded data removed]",
      "text/plain": [
       "<Figure size 432x288 with 1 Axes>"
      ]
     },
     "metadata": {
      "needs_background": "light"
     },
     "output_type": "display_data"
    },
    {
     "data": {
      "text/plain": [
       "<Figure size 720x360 with 0 Axes>"
      ]
     },
     "metadata": {},
     "output_type": "display_data"
    },
    {
     "data": {
      "text/plain": [
       "<Figure size 720x360 with 0 Axes>"
      ]
     },
     "metadata": {},
     "output_type": "display_data"
    },
    {
     "data": {
      "text/plain": [
       "<Figure size 720x360 with 0 Axes>"
      ]
     },
     "metadata": {},
     "output_type": "display_data"
    },
    {
     "data": {
      "text/plain": [
       "<Figure size 720x360 with 0 Axes>"
      ]
     },
     "metadata": {},
     "output_type": "display_data"
    },
    {
     "data": {
      "text/plain": [
       "<Figure size 720x360 with 0 Axes>"
      ]
     },
     "metadata": {},
     "output_type": "display_data"
    },
    {
     "data": {
      "text/plain": [
       "<Figure size 720x360 with 0 Axes>"
      ]
     },
     "metadata": {},
     "output_type": "display_data"
    },
    {
     "data": {
      "text/plain": [
       "<Figure size 720x360 with 0 Axes>"
      ]
     },
     "metadata": {},
     "output_type": "display_data"
    },
    {
     "data": {
      "text/plain": [
       "<Figure size 720x360 with 0 Axes>"
      ]
     },
     "metadata": {},
     "output_type": "display_data"
    },
    {
     "data": {
      "text/plain": [
       "<Figure size 720x360 with 0 Axes>"
      ]
     },
     "metadata": {},
     "output_type": "display_data"
    },
    {
     "data": {
      "text/plain": [
       "<Figure size 720x360 with 0 Axes>"
      ]
     },
     "metadata": {},
     "output_type": "display_data"
    },
    {
     "data": {
      "image/png": "[encoded data removed]",
      "text/plain": [
       "<Figure size 432x288 with 2 Axes>"
      ]
     },
     "metadata": {
      "needs_background": "light"
     },
     "output_type": "display_data"
    },
    {
     "data": {
      "image/png": "[encoded data removed]",
      "text/plain": [
       "<Figure size 432x288 with 1 Axes>"
      ]
     },
     "metadata": {
      "needs_background": "light"
     },
     "output_type": "display_data"
    },
    {
     "data": {
      "text/plain": [
       "<Figure size 720x360 with 0 Axes>"
      ]
     },
     "metadata": {},
     "output_type": "display_data"
    }
   ],
   "source": [
    "start=0\n",
    "stride=1\n",
    "data=[]\n",
    "for i,simulation in simulations.iterrows():\n",
    "    selected_simulation=simulation\n",
    "\n",
    "    root=selected_simulation['root']\n",
    "    dcd=selected_simulation['dcd']\n",
    "    cif=selected_simulation['cif']\n",
    "    #!vmd -e ../Box_vis_500.vmd $cif $dcd\n",
    "\n",
    "\n",
    "    try:\n",
    "        cif=prody.parseMMCIF(selected_simulation['cif'])\n",
    "    except KeyError:\n",
    "        continue\n",
    "    pdbx=mdtraj.formats.pdbx.load_pdbx(selected_simulation['cif'])\n",
    "    dcd=mdtraj.load_dcd(selected_simulation['dcd'],top=pdbx)\n",
    "    dcd.unitcell_vectors=np.array([[[500,0,0],[0,500,0],[0,0,500]]]*len(dcd))\n",
    "\n",
    "    if len(dcd)<1000:\n",
    "        print(root,len(dcd))\n",
    "        continue\n",
    "    \n",
    "    s={}\n",
    "    for name in ['Aa','Ab','Ac','Ca','Cb','Cd']:\n",
    "        selection=cif.select(f'name {name}')\n",
    "        #dcd.setAtoms(selection)\n",
    "        s.update({name:selection.getIndices()})\n",
    "    #d1=np.array([sdist.cdist(a,b) for a,b in zip(s['Aa'],s['Ca'])])\n",
    "    #d2=np.array([sdist.cdist(a,b) for a,b in zip(s['Ab'],s['Cb'])])\n",
    "    #d3=np.array([sdist.cdist(a,b) for a,b in zip(s['Ac'],s['Cd'])])\n",
    "\n",
    "    selection=cif.select('name Ca')\n",
    "    dcdt=dcd[start::stride]\n",
    "    \n",
    "    d1=mdtraj.compute_distances(dcdt,np.array([a for a in itertools.product(s['Aa'],s['Ca'])]),periodic=True)\n",
    "    d2=mdtraj.compute_distances(dcdt,np.array([a for a in itertools.product(s['Ab'],s['Cb'])]),periodic=True)\n",
    "    d3=mdtraj.compute_distances(dcdt,np.array([a for a in itertools.product(s['Ac'],s['Cd'])]),periodic=True)\n",
    "\n",
    "    actin_com=(dcdt.xyz[:,s['Aa']]+dcdt.xyz[:,s['Ab']]+dcdt.xyz[:,s['Ac']])/3\n",
    "    abp_com=(dcdt.xyz[:,s['Ca']]+dcdt.xyz[:,s['Cb']]+dcdt.xyz[:,s['Cd']])/3\n",
    "    translation=np.expand_dims(abp_com,axis=1)-np.expand_dims(actin_com,axis=2)\n",
    "    rmsd_abp=((((np.expand_dims(dcdt.xyz[:,s['Ca']],axis=1)-translation-np.expand_dims(dcdt.xyz[:,s['Aa']],axis=2))**2).sum(axis=3)+\n",
    "               ((np.expand_dims(dcdt.xyz[:,s['Cb']],axis=1)-translation-np.expand_dims(dcdt.xyz[:,s['Ab']],axis=2))**2).sum(axis=3)+\n",
    "               ((np.expand_dims(dcdt.xyz[:,s['Cd']],axis=1)-translation-np.expand_dims(dcdt.xyz[:,s['Ac']],axis=2))**2).sum(axis=3))/3)**.5\n",
    "    rmsd_abp.shape\n",
    "\n",
    "    dd=(d1**2+d2**2+d3**2)/3\n",
    "    g1=-1*(np.exp(-dd/1.0)+np.exp(-dd/0.01*1.0))/2*(d1<12.0)\n",
    "    g1.shape\n",
    "\n",
    "    g2=g1.reshape(len(g1),len(s['Aa']),len(s['Ca']))\n",
    "    g2.shape\n",
    "\n",
    "    g3_total_bind = (g2<-0.2).sum(axis=1).T>0\n",
    "    g3_partial_bind = (g2<0).sum(axis=1).T > 0\n",
    "    g3_states=[g3_total_bind[:,0]]\n",
    "    for t in range(1,len(g3_total_bind.T)):\n",
    "        g3_state=g3_total_bind[:,t] | (g3_states[-1] & g3_partial_bind[:,t])\n",
    "        g3_states+=[g3_state]\n",
    "    g3=np.array(g3_states).T\n",
    "    Actin_binding=g3*1\n",
    "\n",
    "    g3_total_bind = (g2<-0.2).sum(axis=2).T>0\n",
    "    g3_partial_bind = (g2<0).sum(axis=2).T > 0\n",
    "    g3_states=[g3_total_bind[:,0]]\n",
    "    for t in range(1,len(g3_total_bind.T)):\n",
    "        g3_state=g3_total_bind[:,t] | (g3_states[-1] & g3_partial_bind[:,t])\n",
    "        g3_states+=[g3_state]\n",
    "    g3=np.array(g3_states).T\n",
    "    ABP_binding=g3*1\n",
    "\n",
    "\n",
    "    Actin_binding[0].sum()\n",
    "\n",
    "    Actin_binding_pair=g2.argmin(axis=1).T\n",
    "    ABP_binding_pair=g2.argmin(axis=2).T\n",
    "    Actin_binding_pair[Actin_binding==0]=-99999\n",
    "    ABP_binding_pair[ABP_binding==0]=-99999\n",
    "\n",
    "    plt.figure(figsize=(10,5))\n",
    "    try:\n",
    "        fig,ax=pyemma.plots.plot_free_energy(np.log10((dd**.5).ravel()),rmsd_abp.ravel(),cmap='viridis')\n",
    "    except ValueError:\n",
    "        continue\n",
    "    ax.set_xlim(-1.5,2.5)\n",
    "    ax.set_ylim(0,2)\n",
    "    ax.set_xticklabels([rf'$10^{{{i}}}$' for i in range(-3,5)])\n",
    "    ax.set_xlabel('ABP-Binding site distance (nm)')\n",
    "    ax.set_ylabel('ABP-Binding site RMSD (nm)')\n",
    "    plt.savefig(f'{root}_FreeEnergy.png')\n",
    "\n",
    "    sel=ABP_binding[:,200:]\n",
    "    skip=0\n",
    "    bound0=0\n",
    "    bound1=1\n",
    "    temp=[[skip,bound0,bound1]]\n",
    "    for skip in range(1,100):\n",
    "        bound0=sel[:,:-skip][sel[:,skip:]==0].mean()\n",
    "        bound1=sel[:,:-skip][sel[:,skip:]==1].mean()\n",
    "        t=skip*float(simulation['frequency'])/10**6\n",
    "        temp+=[[t,bound0,bound1]]\n",
    "    b_t=pd.DataFrame(temp,columns=['t','B_0','B_1'])\n",
    "    b_t=b_t.dropna()\n",
    "    if len(b_t)<10:\n",
    "        continue\n",
    "    t=b_t['t']\n",
    "\n",
    "    bound=b_t['B_0'].values\n",
    "    unbound=1-b_t['B_1'].values\n",
    "    bound_ratio=(bound/unbound)[1:]\n",
    "    K=bound_ratio.mean()\n",
    "    y=bound+unbound\n",
    "    kt=-np.log(1-y[1])/t[1]\n",
    "    k=scipy.optimize.curve_fit(lambda t,k : (1-np.exp(-k*t)), t, y, p0=[kt])[0][0]\n",
    "    k2=k/(1+K)\n",
    "    k1=k2*K\n",
    "    Aeq=k2/k\n",
    "    Beq=k1/k\n",
    "    plt.figure()\n",
    "    plt.plot(b_t['t'],b_t['B_0'])\n",
    "    plt.plot(b_t['t'],b_t['B_1'])\n",
    "    plt.plot(t,k1/(k1+k2)*(1-np.exp(-(k1+k2)*t)))\n",
    "    plt.plot(t,k1/(k1+k2)*(1-(1-(k1+k2)/k1)*np.exp(-(k1+k2)*t)))\n",
    "    plt.xlabel('time (us)')\n",
    "    plt.ylabel('Proportion bound')\n",
    "    plt.legend(['Binding',\n",
    "                'Unbinding',\n",
    "                r'$k_b$='f'{np.round(k1,4)} ' r'$\\mu s^-1$',\n",
    "                r'$k_u$='f'{np.round(k2,4)} ' r'$\\mu s^-1$'])\n",
    "    plt.savefig(f'{root}_BindingRate.png')\n",
    "    events=ABP_binding[:,1:]-ABP_binding[:,:-1]\n",
    "    unbinding_events=(events<0).sum()\n",
    "    binding_events=(events>0).sum()\n",
    "    data+=[[i,binding_events,unbinding_events,k1,k2,K]]"
   ]
  },
  {
   "cell_type": "code",
   "execution_count": 19,
   "id": "c002193e",
   "metadata": {
    "scrolled": true
   },
   "outputs": [
    {
     "data": {
      "text/html": [
       "<div>\n",
       "<style scoped>\n",
       "    .dataframe tbody tr th:only-of-type {\n",
       "        vertical-align: middle;\n",
       "    }\n",
       "\n",
       "    .dataframe tbody tr th {\n",
       "        vertical-align: top;\n",
       "    }\n",
       "\n",
       "    .dataframe thead th {\n",
       "        text-align: right;\n",
       "    }\n",
       "</style>\n",
       "<table border=\"1\" class=\"dataframe\">\n",
       "  <thead>\n",
       "    <tr style=\"text-align: right;\">\n",
       "      <th></th>\n",
       "      <th>epsilon</th>\n",
       "      <th>root</th>\n",
       "      <th>w1</th>\n",
       "      <th>w2_ratio</th>\n",
       "      <th>aligned</th>\n",
       "      <th>monomers</th>\n",
       "      <th>disorder</th>\n",
       "      <th>box_size</th>\n",
       "      <th>n_actins</th>\n",
       "      <th>n_abps</th>\n",
       "      <th>...</th>\n",
       "      <th>param</th>\n",
       "      <th>cif</th>\n",
       "      <th>dcd</th>\n",
       "      <th>log</th>\n",
       "      <th>index</th>\n",
       "      <th>binding_events</th>\n",
       "      <th>unbinding_events</th>\n",
       "      <th>k1</th>\n",
       "      <th>k2</th>\n",
       "      <th>K</th>\n",
       "    </tr>\n",
       "  </thead>\n",
       "  <tbody>\n",
       "    <tr>\n",
       "      <th>0</th>\n",
       "      <td>100.0</td>\n",
       "      <td>/media/cb/SATA8TB/Simulations_August2022/Box/E...</td>\n",
       "      <td>1.0</td>\n",
       "      <td>0.1</td>\n",
       "      <td>False</td>\n",
       "      <td>225</td>\n",
       "      <td>0</td>\n",
       "      <td>5000</td>\n",
       "      <td>3</td>\n",
       "      <td>128</td>\n",
       "      <td>...</td>\n",
       "      <td>/media/cb/SATA8TB/Simulations_August2022/Box/E...</td>\n",
       "      <td>/media/cb/SATA8TB/Simulations_August2022/Box/E...</td>\n",
       "      <td>/media/cb/SATA8TB/Simulations_August2022/Box/E...</td>\n",
       "      <td>/media/cb/SATA8TB/Simulations_August2022/Box/E...</td>\n",
       "      <td>NaN</td>\n",
       "      <td>NaN</td>\n",
       "      <td>NaN</td>\n",
       "      <td>NaN</td>\n",
       "      <td>NaN</td>\n",
       "      <td>NaN</td>\n",
       "    </tr>\n",
       "    <tr>\n",
       "      <th>1</th>\n",
       "      <td>100.0</td>\n",
       "      <td>/media/cb/SATA8TB/Simulations_August2022/Box/E...</td>\n",
       "      <td>1.0</td>\n",
       "      <td>0.1</td>\n",
       "      <td>False</td>\n",
       "      <td>225</td>\n",
       "      <td>0</td>\n",
       "      <td>5000</td>\n",
       "      <td>3</td>\n",
       "      <td>128</td>\n",
       "      <td>...</td>\n",
       "      <td>/media/cb/SATA8TB/Simulations_August2022/Box/E...</td>\n",
       "      <td>/media/cb/SATA8TB/Simulations_August2022/Box/E...</td>\n",
       "      <td>/media/cb/SATA8TB/Simulations_August2022/Box/E...</td>\n",
       "      <td>/media/cb/SATA8TB/Simulations_August2022/Box/E...</td>\n",
       "      <td>NaN</td>\n",
       "      <td>NaN</td>\n",
       "      <td>NaN</td>\n",
       "      <td>NaN</td>\n",
       "      <td>NaN</td>\n",
       "      <td>NaN</td>\n",
       "    </tr>\n",
       "    <tr>\n",
       "      <th>2</th>\n",
       "      <td>100.0</td>\n",
       "      <td>/media/cb/SATA8TB/Simulations_August2022/Box/E...</td>\n",
       "      <td>1.0</td>\n",
       "      <td>0.1</td>\n",
       "      <td>False</td>\n",
       "      <td>225</td>\n",
       "      <td>0</td>\n",
       "      <td>5000</td>\n",
       "      <td>3</td>\n",
       "      <td>128</td>\n",
       "      <td>...</td>\n",
       "      <td>/media/cb/SATA8TB/Simulations_August2022/Box/E...</td>\n",
       "      <td>/media/cb/SATA8TB/Simulations_August2022/Box/E...</td>\n",
       "      <td>/media/cb/SATA8TB/Simulations_August2022/Box/E...</td>\n",
       "      <td>/media/cb/SATA8TB/Simulations_August2022/Box/E...</td>\n",
       "      <td>NaN</td>\n",
       "      <td>NaN</td>\n",
       "      <td>NaN</td>\n",
       "      <td>NaN</td>\n",
       "      <td>NaN</td>\n",
       "      <td>NaN</td>\n",
       "    </tr>\n",
       "    <tr>\n",
       "      <th>3</th>\n",
       "      <td>100.0</td>\n",
       "      <td>/media/cb/SATA8TB/Simulations_August2022/Box/E...</td>\n",
       "      <td>1.0</td>\n",
       "      <td>0.1</td>\n",
       "      <td>False</td>\n",
       "      <td>225</td>\n",
       "      <td>0</td>\n",
       "      <td>5000</td>\n",
       "      <td>3</td>\n",
       "      <td>128</td>\n",
       "      <td>...</td>\n",
       "      <td>/media/cb/SATA8TB/Simulations_August2022/Box/E...</td>\n",
       "      <td>/media/cb/SATA8TB/Simulations_August2022/Box/E...</td>\n",
       "      <td>/media/cb/SATA8TB/Simulations_August2022/Box/E...</td>\n",
       "      <td>/media/cb/SATA8TB/Simulations_August2022/Box/E...</td>\n",
       "      <td>NaN</td>\n",
       "      <td>NaN</td>\n",
       "      <td>NaN</td>\n",
       "      <td>NaN</td>\n",
       "      <td>NaN</td>\n",
       "      <td>NaN</td>\n",
       "    </tr>\n",
       "    <tr>\n",
       "      <th>4</th>\n",
       "      <td>100.0</td>\n",
       "      <td>/media/cb/SATA8TB/Simulations_August2022/Box/E...</td>\n",
       "      <td>1.0</td>\n",
       "      <td>0.1</td>\n",
       "      <td>False</td>\n",
       "      <td>225</td>\n",
       "      <td>0</td>\n",
       "      <td>5000</td>\n",
       "      <td>3</td>\n",
       "      <td>128</td>\n",
       "      <td>...</td>\n",
       "      <td>/media/cb/SATA8TB/Simulations_August2022/Box/E...</td>\n",
       "      <td>/media/cb/SATA8TB/Simulations_August2022/Box/E...</td>\n",
       "      <td>/media/cb/SATA8TB/Simulations_August2022/Box/E...</td>\n",
       "      <td>/media/cb/SATA8TB/Simulations_August2022/Box/E...</td>\n",
       "      <td>NaN</td>\n",
       "      <td>NaN</td>\n",
       "      <td>NaN</td>\n",
       "      <td>NaN</td>\n",
       "      <td>NaN</td>\n",
       "      <td>NaN</td>\n",
       "    </tr>\n",
       "    <tr>\n",
       "      <th>...</th>\n",
       "      <td>...</td>\n",
       "      <td>...</td>\n",
       "      <td>...</td>\n",
       "      <td>...</td>\n",
       "      <td>...</td>\n",
       "      <td>...</td>\n",
       "      <td>...</td>\n",
       "      <td>...</td>\n",
       "      <td>...</td>\n",
       "      <td>...</td>\n",
       "      <td>...</td>\n",
       "      <td>...</td>\n",
       "      <td>...</td>\n",
       "      <td>...</td>\n",
       "      <td>...</td>\n",
       "      <td>...</td>\n",
       "      <td>...</td>\n",
       "      <td>...</td>\n",
       "      <td>...</td>\n",
       "      <td>...</td>\n",
       "      <td>...</td>\n",
       "    </tr>\n",
       "    <tr>\n",
       "      <th>67</th>\n",
       "      <td>200.0</td>\n",
       "      <td>/media/cb/SATA8TB/Simulations_August2022/Box/E...</td>\n",
       "      <td>3.0</td>\n",
       "      <td>0.1</td>\n",
       "      <td>False</td>\n",
       "      <td>225</td>\n",
       "      <td>0</td>\n",
       "      <td>5000</td>\n",
       "      <td>3</td>\n",
       "      <td>128</td>\n",
       "      <td>...</td>\n",
       "      <td>/media/cb/SATA8TB/Simulations_August2022/Box/E...</td>\n",
       "      <td>/media/cb/SATA8TB/Simulations_August2022/Box/E...</td>\n",
       "      <td>/media/cb/SATA8TB/Simulations_August2022/Box/E...</td>\n",
       "      <td>/media/cb/SATA8TB/Simulations_August2022/Box/E...</td>\n",
       "      <td>NaN</td>\n",
       "      <td>NaN</td>\n",
       "      <td>NaN</td>\n",
       "      <td>NaN</td>\n",
       "      <td>NaN</td>\n",
       "      <td>NaN</td>\n",
       "    </tr>\n",
       "    <tr>\n",
       "      <th>68</th>\n",
       "      <td>200.0</td>\n",
       "      <td>/media/cb/SATA8TB/Simulations_August2022/Box/E...</td>\n",
       "      <td>3.0</td>\n",
       "      <td>0.1</td>\n",
       "      <td>False</td>\n",
       "      <td>225</td>\n",
       "      <td>0</td>\n",
       "      <td>5000</td>\n",
       "      <td>3</td>\n",
       "      <td>128</td>\n",
       "      <td>...</td>\n",
       "      <td>/media/cb/SATA8TB/Simulations_August2022/Box/E...</td>\n",
       "      <td>/media/cb/SATA8TB/Simulations_August2022/Box/E...</td>\n",
       "      <td>/media/cb/SATA8TB/Simulations_August2022/Box/E...</td>\n",
       "      <td>/media/cb/SATA8TB/Simulations_August2022/Box/E...</td>\n",
       "      <td>NaN</td>\n",
       "      <td>NaN</td>\n",
       "      <td>NaN</td>\n",
       "      <td>NaN</td>\n",
       "      <td>NaN</td>\n",
       "      <td>NaN</td>\n",
       "    </tr>\n",
       "    <tr>\n",
       "      <th>69</th>\n",
       "      <td>200.0</td>\n",
       "      <td>/media/cb/SATA8TB/Simulations_August2022/Box/E...</td>\n",
       "      <td>3.0</td>\n",
       "      <td>0.1</td>\n",
       "      <td>False</td>\n",
       "      <td>225</td>\n",
       "      <td>0</td>\n",
       "      <td>5000</td>\n",
       "      <td>3</td>\n",
       "      <td>128</td>\n",
       "      <td>...</td>\n",
       "      <td>/media/cb/SATA8TB/Simulations_August2022/Box/E...</td>\n",
       "      <td>/media/cb/SATA8TB/Simulations_August2022/Box/E...</td>\n",
       "      <td>/media/cb/SATA8TB/Simulations_August2022/Box/E...</td>\n",
       "      <td>/media/cb/SATA8TB/Simulations_August2022/Box/E...</td>\n",
       "      <td>NaN</td>\n",
       "      <td>NaN</td>\n",
       "      <td>NaN</td>\n",
       "      <td>NaN</td>\n",
       "      <td>NaN</td>\n",
       "      <td>NaN</td>\n",
       "    </tr>\n",
       "    <tr>\n",
       "      <th>70</th>\n",
       "      <td>200.0</td>\n",
       "      <td>/media/cb/SATA8TB/Simulations_August2022/Box/E...</td>\n",
       "      <td>3.0</td>\n",
       "      <td>0.1</td>\n",
       "      <td>False</td>\n",
       "      <td>225</td>\n",
       "      <td>0</td>\n",
       "      <td>5000</td>\n",
       "      <td>3</td>\n",
       "      <td>128</td>\n",
       "      <td>...</td>\n",
       "      <td>/media/cb/SATA8TB/Simulations_August2022/Box/E...</td>\n",
       "      <td>/media/cb/SATA8TB/Simulations_August2022/Box/E...</td>\n",
       "      <td>/media/cb/SATA8TB/Simulations_August2022/Box/E...</td>\n",
       "      <td>/media/cb/SATA8TB/Simulations_August2022/Box/E...</td>\n",
       "      <td>NaN</td>\n",
       "      <td>NaN</td>\n",
       "      <td>NaN</td>\n",
       "      <td>NaN</td>\n",
       "      <td>NaN</td>\n",
       "      <td>NaN</td>\n",
       "    </tr>\n",
       "    <tr>\n",
       "      <th>71</th>\n",
       "      <td>200.0</td>\n",
       "      <td>/media/cb/SATA8TB/Simulations_August2022/Box/E...</td>\n",
       "      <td>3.0</td>\n",
       "      <td>0.1</td>\n",
       "      <td>False</td>\n",
       "      <td>225</td>\n",
       "      <td>0</td>\n",
       "      <td>5000</td>\n",
       "      <td>3</td>\n",
       "      <td>128</td>\n",
       "      <td>...</td>\n",
       "      <td>/media/cb/SATA8TB/Simulations_August2022/Box/E...</td>\n",
       "      <td>/media/cb/SATA8TB/Simulations_August2022/Box/E...</td>\n",
       "      <td>/media/cb/SATA8TB/Simulations_August2022/Box/E...</td>\n",
       "      <td>/media/cb/SATA8TB/Simulations_August2022/Box/E...</td>\n",
       "      <td>NaN</td>\n",
       "      <td>NaN</td>\n",
       "      <td>NaN</td>\n",
       "      <td>NaN</td>\n",
       "      <td>NaN</td>\n",
       "      <td>NaN</td>\n",
       "    </tr>\n",
       "  </tbody>\n",
       "</table>\n",
       "<p>72 rows × 70 columns</p>\n",
       "</div>"
      ],
      "text/plain": [
       "    epsilon                                               root   w1  w2_ratio  \\\n",
       "0     100.0  /media/cb/SATA8TB/Simulations_August2022/Box/E...  1.0       0.1   \n",
       "1     100.0  /media/cb/SATA8TB/Simulations_August2022/Box/E...  1.0       0.1   \n",
       "2     100.0  /media/cb/SATA8TB/Simulations_August2022/Box/E...  1.0       0.1   \n",
       "3     100.0  /media/cb/SATA8TB/Simulations_August2022/Box/E...  1.0       0.1   \n",
       "4     100.0  /media/cb/SATA8TB/Simulations_August2022/Box/E...  1.0       0.1   \n",
       "..      ...                                                ...  ...       ...   \n",
       "67    200.0  /media/cb/SATA8TB/Simulations_August2022/Box/E...  3.0       0.1   \n",
       "68    200.0  /media/cb/SATA8TB/Simulations_August2022/Box/E...  3.0       0.1   \n",
       "69    200.0  /media/cb/SATA8TB/Simulations_August2022/Box/E...  3.0       0.1   \n",
       "70    200.0  /media/cb/SATA8TB/Simulations_August2022/Box/E...  3.0       0.1   \n",
       "71    200.0  /media/cb/SATA8TB/Simulations_August2022/Box/E...  3.0       0.1   \n",
       "\n",
       "   aligned monomers disorder box_size n_actins n_abps  ...  \\\n",
       "0    False      225        0     5000        3    128  ...   \n",
       "1    False      225        0     5000        3    128  ...   \n",
       "2    False      225        0     5000        3    128  ...   \n",
       "3    False      225        0     5000        3    128  ...   \n",
       "4    False      225        0     5000        3    128  ...   \n",
       "..     ...      ...      ...      ...      ...    ...  ...   \n",
       "67   False      225        0     5000        3    128  ...   \n",
       "68   False      225        0     5000        3    128  ...   \n",
       "69   False      225        0     5000        3    128  ...   \n",
       "70   False      225        0     5000        3    128  ...   \n",
       "71   False      225        0     5000        3    128  ...   \n",
       "\n",
       "                                                param  \\\n",
       "0   /media/cb/SATA8TB/Simulations_August2022/Box/E...   \n",
       "1   /media/cb/SATA8TB/Simulations_August2022/Box/E...   \n",
       "2   /media/cb/SATA8TB/Simulations_August2022/Box/E...   \n",
       "3   /media/cb/SATA8TB/Simulations_August2022/Box/E...   \n",
       "4   /media/cb/SATA8TB/Simulations_August2022/Box/E...   \n",
       "..                                                ...   \n",
       "67  /media/cb/SATA8TB/Simulations_August2022/Box/E...   \n",
       "68  /media/cb/SATA8TB/Simulations_August2022/Box/E...   \n",
       "69  /media/cb/SATA8TB/Simulations_August2022/Box/E...   \n",
       "70  /media/cb/SATA8TB/Simulations_August2022/Box/E...   \n",
       "71  /media/cb/SATA8TB/Simulations_August2022/Box/E...   \n",
       "\n",
       "                                                  cif  \\\n",
       "0   /media/cb/SATA8TB/Simulations_August2022/Box/E...   \n",
       "1   /media/cb/SATA8TB/Simulations_August2022/Box/E...   \n",
       "2   /media/cb/SATA8TB/Simulations_August2022/Box/E...   \n",
       "3   /media/cb/SATA8TB/Simulations_August2022/Box/E...   \n",
       "4   /media/cb/SATA8TB/Simulations_August2022/Box/E...   \n",
       "..                                                ...   \n",
       "67  /media/cb/SATA8TB/Simulations_August2022/Box/E...   \n",
       "68  /media/cb/SATA8TB/Simulations_August2022/Box/E...   \n",
       "69  /media/cb/SATA8TB/Simulations_August2022/Box/E...   \n",
       "70  /media/cb/SATA8TB/Simulations_August2022/Box/E...   \n",
       "71  /media/cb/SATA8TB/Simulations_August2022/Box/E...   \n",
       "\n",
       "                                                  dcd  \\\n",
       "0   /media/cb/SATA8TB/Simulations_August2022/Box/E...   \n",
       "1   /media/cb/SATA8TB/Simulations_August2022/Box/E...   \n",
       "2   /media/cb/SATA8TB/Simulations_August2022/Box/E...   \n",
       "3   /media/cb/SATA8TB/Simulations_August2022/Box/E...   \n",
       "4   /media/cb/SATA8TB/Simulations_August2022/Box/E...   \n",
       "..                                                ...   \n",
       "67  /media/cb/SATA8TB/Simulations_August2022/Box/E...   \n",
       "68  /media/cb/SATA8TB/Simulations_August2022/Box/E...   \n",
       "69  /media/cb/SATA8TB/Simulations_August2022/Box/E...   \n",
       "70  /media/cb/SATA8TB/Simulations_August2022/Box/E...   \n",
       "71  /media/cb/SATA8TB/Simulations_August2022/Box/E...   \n",
       "\n",
       "                                                  log index binding_events  \\\n",
       "0   /media/cb/SATA8TB/Simulations_August2022/Box/E...   NaN            NaN   \n",
       "1   /media/cb/SATA8TB/Simulations_August2022/Box/E...   NaN            NaN   \n",
       "2   /media/cb/SATA8TB/Simulations_August2022/Box/E...   NaN            NaN   \n",
       "3   /media/cb/SATA8TB/Simulations_August2022/Box/E...   NaN            NaN   \n",
       "4   /media/cb/SATA8TB/Simulations_August2022/Box/E...   NaN            NaN   \n",
       "..                                                ...   ...            ...   \n",
       "67  /media/cb/SATA8TB/Simulations_August2022/Box/E...   NaN            NaN   \n",
       "68  /media/cb/SATA8TB/Simulations_August2022/Box/E...   NaN            NaN   \n",
       "69  /media/cb/SATA8TB/Simulations_August2022/Box/E...   NaN            NaN   \n",
       "70  /media/cb/SATA8TB/Simulations_August2022/Box/E...   NaN            NaN   \n",
       "71  /media/cb/SATA8TB/Simulations_August2022/Box/E...   NaN            NaN   \n",
       "\n",
       "   unbinding_events  k1  k2   K  \n",
       "0               NaN NaN NaN NaN  \n",
       "1               NaN NaN NaN NaN  \n",
       "2               NaN NaN NaN NaN  \n",
       "3               NaN NaN NaN NaN  \n",
       "4               NaN NaN NaN NaN  \n",
       "..              ...  ..  ..  ..  \n",
       "67              NaN NaN NaN NaN  \n",
       "68              NaN NaN NaN NaN  \n",
       "69              NaN NaN NaN NaN  \n",
       "70              NaN NaN NaN NaN  \n",
       "71              NaN NaN NaN NaN  \n",
       "\n",
       "[72 rows x 70 columns]"
      ]
     },
     "execution_count": 19,
     "metadata": {},
     "output_type": "execute_result"
    }
   ],
   "source": [
    "kinetics_data=pd.DataFrame(data,columns=['index','binding_events','unbinding_events','k1','k2','K'])\n",
    "kinetics_data.index=kinetics_data['index']\n",
    "simulation_kinetics=pd.concat([simulations,kinetics_data],axis=1)\n",
    "simulation_kinetics"
   ]
  },
  {
   "cell_type": "code",
   "execution_count": 20,
   "id": "ca6c3108",
   "metadata": {},
   "outputs": [
    {
     "data": {
      "text/html": [
       "<div>\n",
       "<style scoped>\n",
       "    .dataframe tbody tr th:only-of-type {\n",
       "        vertical-align: middle;\n",
       "    }\n",
       "\n",
       "    .dataframe tbody tr th {\n",
       "        vertical-align: top;\n",
       "    }\n",
       "\n",
       "    .dataframe thead th {\n",
       "        text-align: right;\n",
       "    }\n",
       "</style>\n",
       "<table border=\"1\" class=\"dataframe\">\n",
       "  <thead>\n",
       "    <tr style=\"text-align: right;\">\n",
       "      <th></th>\n",
       "      <th>epsilon</th>\n",
       "      <th>w1</th>\n",
       "      <th>w2_ratio</th>\n",
       "      <th>index</th>\n",
       "      <th>binding_events</th>\n",
       "      <th>unbinding_events</th>\n",
       "      <th>k1</th>\n",
       "      <th>k2</th>\n",
       "      <th>K</th>\n",
       "    </tr>\n",
       "  </thead>\n",
       "  <tbody>\n",
       "    <tr>\n",
       "      <th>count</th>\n",
       "      <td>72.000000</td>\n",
       "      <td>72.000000</td>\n",
       "      <td>7.200000e+01</td>\n",
       "      <td>2.000000</td>\n",
       "      <td>2.000000</td>\n",
       "      <td>2.000000</td>\n",
       "      <td>2.000000</td>\n",
       "      <td>2.000000</td>\n",
       "      <td>2.000000</td>\n",
       "    </tr>\n",
       "    <tr>\n",
       "      <th>mean</th>\n",
       "      <td>150.000000</td>\n",
       "      <td>2.000000</td>\n",
       "      <td>1.000000e-01</td>\n",
       "      <td>26.500000</td>\n",
       "      <td>111.500000</td>\n",
       "      <td>65.000000</td>\n",
       "      <td>0.001737</td>\n",
       "      <td>0.003323</td>\n",
       "      <td>0.447286</td>\n",
       "    </tr>\n",
       "    <tr>\n",
       "      <th>std</th>\n",
       "      <td>41.111323</td>\n",
       "      <td>0.822226</td>\n",
       "      <td>1.397518e-17</td>\n",
       "      <td>27.577164</td>\n",
       "      <td>137.885822</td>\n",
       "      <td>74.953319</td>\n",
       "      <td>0.002428</td>\n",
       "      <td>0.000803</td>\n",
       "      <td>0.622420</td>\n",
       "    </tr>\n",
       "    <tr>\n",
       "      <th>min</th>\n",
       "      <td>100.000000</td>\n",
       "      <td>1.000000</td>\n",
       "      <td>1.000000e-01</td>\n",
       "      <td>7.000000</td>\n",
       "      <td>14.000000</td>\n",
       "      <td>12.000000</td>\n",
       "      <td>0.000020</td>\n",
       "      <td>0.002755</td>\n",
       "      <td>0.007169</td>\n",
       "    </tr>\n",
       "    <tr>\n",
       "      <th>25%</th>\n",
       "      <td>100.000000</td>\n",
       "      <td>1.000000</td>\n",
       "      <td>1.000000e-01</td>\n",
       "      <td>16.750000</td>\n",
       "      <td>62.750000</td>\n",
       "      <td>38.500000</td>\n",
       "      <td>0.000878</td>\n",
       "      <td>0.003039</td>\n",
       "      <td>0.227228</td>\n",
       "    </tr>\n",
       "    <tr>\n",
       "      <th>50%</th>\n",
       "      <td>150.000000</td>\n",
       "      <td>2.000000</td>\n",
       "      <td>1.000000e-01</td>\n",
       "      <td>26.500000</td>\n",
       "      <td>111.500000</td>\n",
       "      <td>65.000000</td>\n",
       "      <td>0.001737</td>\n",
       "      <td>0.003323</td>\n",
       "      <td>0.447286</td>\n",
       "    </tr>\n",
       "    <tr>\n",
       "      <th>75%</th>\n",
       "      <td>200.000000</td>\n",
       "      <td>3.000000</td>\n",
       "      <td>1.000000e-01</td>\n",
       "      <td>36.250000</td>\n",
       "      <td>160.250000</td>\n",
       "      <td>91.500000</td>\n",
       "      <td>0.002595</td>\n",
       "      <td>0.003607</td>\n",
       "      <td>0.667345</td>\n",
       "    </tr>\n",
       "    <tr>\n",
       "      <th>max</th>\n",
       "      <td>200.000000</td>\n",
       "      <td>3.000000</td>\n",
       "      <td>1.000000e-01</td>\n",
       "      <td>46.000000</td>\n",
       "      <td>209.000000</td>\n",
       "      <td>118.000000</td>\n",
       "      <td>0.003453</td>\n",
       "      <td>0.003891</td>\n",
       "      <td>0.887404</td>\n",
       "    </tr>\n",
       "  </tbody>\n",
       "</table>\n",
       "</div>"
      ],
      "text/plain": [
       "          epsilon         w1      w2_ratio      index  binding_events  \\\n",
       "count   72.000000  72.000000  7.200000e+01   2.000000        2.000000   \n",
       "mean   150.000000   2.000000  1.000000e-01  26.500000      111.500000   \n",
       "std     41.111323   0.822226  1.397518e-17  27.577164      137.885822   \n",
       "min    100.000000   1.000000  1.000000e-01   7.000000       14.000000   \n",
       "25%    100.000000   1.000000  1.000000e-01  16.750000       62.750000   \n",
       "50%    150.000000   2.000000  1.000000e-01  26.500000      111.500000   \n",
       "75%    200.000000   3.000000  1.000000e-01  36.250000      160.250000   \n",
       "max    200.000000   3.000000  1.000000e-01  46.000000      209.000000   \n",
       "\n",
       "       unbinding_events        k1        k2         K  \n",
       "count          2.000000  2.000000  2.000000  2.000000  \n",
       "mean          65.000000  0.001737  0.003323  0.447286  \n",
       "std           74.953319  0.002428  0.000803  0.622420  \n",
       "min           12.000000  0.000020  0.002755  0.007169  \n",
       "25%           38.500000  0.000878  0.003039  0.227228  \n",
       "50%           65.000000  0.001737  0.003323  0.447286  \n",
       "75%           91.500000  0.002595  0.003607  0.667345  \n",
       "max          118.000000  0.003453  0.003891  0.887404  "
      ]
     },
     "execution_count": 20,
     "metadata": {},
     "output_type": "execute_result"
    }
   ],
   "source": [
    "simulation_kinetics.describe()"
   ]
  },
  {
   "cell_type": "code",
   "execution_count": 9,
   "id": "464f10e5",
   "metadata": {},
   "outputs": [
    {
     "data": {
      "text/html": [
       "<div>\n",
       "<style scoped>\n",
       "    .dataframe tbody tr th:only-of-type {\n",
       "        vertical-align: middle;\n",
       "    }\n",
       "\n",
       "    .dataframe tbody tr th {\n",
       "        vertical-align: top;\n",
       "    }\n",
       "\n",
       "    .dataframe thead th {\n",
       "        text-align: right;\n",
       "    }\n",
       "</style>\n",
       "<table border=\"1\" class=\"dataframe\">\n",
       "  <thead>\n",
       "    <tr style=\"text-align: right;\">\n",
       "      <th>epsilon</th>\n",
       "      <th>100.0</th>\n",
       "      <th>150.0</th>\n",
       "    </tr>\n",
       "    <tr>\n",
       "      <th>w1</th>\n",
       "      <th></th>\n",
       "      <th></th>\n",
       "    </tr>\n",
       "  </thead>\n",
       "  <tbody>\n",
       "    <tr>\n",
       "      <th>1.0</th>\n",
       "      <td>12.0</td>\n",
       "      <td>NaN</td>\n",
       "    </tr>\n",
       "    <tr>\n",
       "      <th>3.0</th>\n",
       "      <td>NaN</td>\n",
       "      <td>118.0</td>\n",
       "    </tr>\n",
       "  </tbody>\n",
       "</table>\n",
       "</div>"
      ],
      "text/plain": [
       "epsilon  100.0  150.0\n",
       "w1                   \n",
       "1.0       12.0    NaN\n",
       "3.0        NaN  118.0"
      ]
     },
     "execution_count": 9,
     "metadata": {},
     "output_type": "execute_result"
    }
   ],
   "source": [
    "temp=simulation_kinetics.groupby(['w1','epsilon','aligned','n_abps']).mean().reset_index()\n",
    "temp[(temp['n_abps']=='128') & (temp['aligned']=='False')].pivot_table(values='unbinding_events',index='w1',columns='epsilon')"
   ]
  },
  {
   "cell_type": "code",
   "execution_count": 10,
   "id": "182aaea8",
   "metadata": {},
   "outputs": [
    {
     "data": {
      "text/plain": [
       "array(['128'], dtype=object)"
      ]
     },
     "execution_count": 10,
     "metadata": {},
     "output_type": "execute_result"
    }
   ],
   "source": [
    "temp['n_abps'].unique()"
   ]
  },
  {
   "cell_type": "code",
   "execution_count": 13,
   "id": "5f01a97d",
   "metadata": {},
   "outputs": [],
   "source": [
    "simulation_kinetics.to_csv('Simulation_kinetics_20220912.csv')"
   ]
  },
  {
   "cell_type": "markdown",
   "id": "3f7325ea",
   "metadata": {},
   "source": [
    "# Single Simulation"
   ]
  },
  {
   "cell_type": "code",
   "execution_count": 63,
   "id": "9f3dd777",
   "metadata": {},
   "outputs": [
    {
     "data": {
      "text/html": [
       "<div>\n",
       "<style scoped>\n",
       "    .dataframe tbody tr th:only-of-type {\n",
       "        vertical-align: middle;\n",
       "    }\n",
       "\n",
       "    .dataframe tbody tr th {\n",
       "        vertical-align: top;\n",
       "    }\n",
       "\n",
       "    .dataframe thead th {\n",
       "        text-align: right;\n",
       "    }\n",
       "</style>\n",
       "<table border=\"1\" class=\"dataframe\">\n",
       "  <thead>\n",
       "    <tr style=\"text-align: right;\">\n",
       "      <th></th>\n",
       "      <th>epsilon</th>\n",
       "      <th>root</th>\n",
       "      <th>w1</th>\n",
       "      <th>w2_ratio</th>\n",
       "      <th>aligned</th>\n",
       "      <th>actinLen</th>\n",
       "      <th>disorder</th>\n",
       "      <th>box_size</th>\n",
       "      <th>n_actins</th>\n",
       "      <th>n_abps</th>\n",
       "      <th>...</th>\n",
       "      <th>SLURM_JOB_ACCOUNT</th>\n",
       "      <th>SLURM_JOB_NUM_NODES</th>\n",
       "      <th>test_run</th>\n",
       "      <th>date</th>\n",
       "      <th>name</th>\n",
       "      <th>job_id</th>\n",
       "      <th>param</th>\n",
       "      <th>cif</th>\n",
       "      <th>dcd</th>\n",
       "      <th>log</th>\n",
       "    </tr>\n",
       "  </thead>\n",
       "  <tbody>\n",
       "    <tr>\n",
       "      <th>252</th>\n",
       "      <td>100.0</td>\n",
       "      <td>/media/cb/SATA8TB/Simulations_July2022/Box/Eps...</td>\n",
       "      <td>3.0</td>\n",
       "      <td>0.1</td>\n",
       "      <td>False</td>\n",
       "      <td>75</td>\n",
       "      <td>0</td>\n",
       "      <td>5000</td>\n",
       "      <td>3</td>\n",
       "      <td>128</td>\n",
       "      <td>...</td>\n",
       "      <td>commons</td>\n",
       "      <td>1</td>\n",
       "      <td>False</td>\n",
       "      <td>2022_07_07</td>\n",
       "      <td>Simulations/Box/Epsilon_Box3uM_037_e_100_w_3.0...</td>\n",
       "      <td>37</td>\n",
       "      <td>/media/cb/SATA8TB/Simulations_July2022/Box/Eps...</td>\n",
       "      <td>/media/cb/SATA8TB/Simulations_July2022/Box/Eps...</td>\n",
       "      <td>/media/cb/SATA8TB/Simulations_July2022/Box/Eps...</td>\n",
       "      <td>/media/cb/SATA8TB/Simulations_July2022/Box/Eps...</td>\n",
       "    </tr>\n",
       "    <tr>\n",
       "      <th>266</th>\n",
       "      <td>100.0</td>\n",
       "      <td>/media/cb/SATA8TB/Simulations_July2022/Box/Eps...</td>\n",
       "      <td>3.0</td>\n",
       "      <td>0.1</td>\n",
       "      <td>False</td>\n",
       "      <td>75</td>\n",
       "      <td>0</td>\n",
       "      <td>5000</td>\n",
       "      <td>3</td>\n",
       "      <td>128</td>\n",
       "      <td>...</td>\n",
       "      <td>commons</td>\n",
       "      <td>1</td>\n",
       "      <td>False</td>\n",
       "      <td>2022_07_07</td>\n",
       "      <td>Simulations/Box/Epsilon_Box3uM_036_e_100_w_3.0...</td>\n",
       "      <td>36</td>\n",
       "      <td>/media/cb/SATA8TB/Simulations_July2022/Box/Eps...</td>\n",
       "      <td>/media/cb/SATA8TB/Simulations_July2022/Box/Eps...</td>\n",
       "      <td>/media/cb/SATA8TB/Simulations_July2022/Box/Eps...</td>\n",
       "      <td>/media/cb/SATA8TB/Simulations_July2022/Box/Eps...</td>\n",
       "    </tr>\n",
       "    <tr>\n",
       "      <th>267</th>\n",
       "      <td>100.0</td>\n",
       "      <td>/media/cb/SATA8TB/Simulations_July2022/Box/Eps...</td>\n",
       "      <td>3.0</td>\n",
       "      <td>0.1</td>\n",
       "      <td>False</td>\n",
       "      <td>75</td>\n",
       "      <td>0</td>\n",
       "      <td>5000</td>\n",
       "      <td>3</td>\n",
       "      <td>128</td>\n",
       "      <td>...</td>\n",
       "      <td>commons</td>\n",
       "      <td>1</td>\n",
       "      <td>False</td>\n",
       "      <td>2022_07_07</td>\n",
       "      <td>Simulations/Box/Epsilon_Box3uM_038_e_100_w_3.0...</td>\n",
       "      <td>38</td>\n",
       "      <td>/media/cb/SATA8TB/Simulations_July2022/Box/Eps...</td>\n",
       "      <td>/media/cb/SATA8TB/Simulations_July2022/Box/Eps...</td>\n",
       "      <td>/media/cb/SATA8TB/Simulations_July2022/Box/Eps...</td>\n",
       "      <td>/media/cb/SATA8TB/Simulations_July2022/Box/Eps...</td>\n",
       "    </tr>\n",
       "  </tbody>\n",
       "</table>\n",
       "<p>3 rows × 64 columns</p>\n",
       "</div>"
      ],
      "text/plain": [
       "     epsilon                                               root   w1  \\\n",
       "252    100.0  /media/cb/SATA8TB/Simulations_July2022/Box/Eps...  3.0   \n",
       "266    100.0  /media/cb/SATA8TB/Simulations_July2022/Box/Eps...  3.0   \n",
       "267    100.0  /media/cb/SATA8TB/Simulations_July2022/Box/Eps...  3.0   \n",
       "\n",
       "     w2_ratio aligned actinLen disorder box_size n_actins n_abps  ...  \\\n",
       "252       0.1   False       75        0     5000        3    128  ...   \n",
       "266       0.1   False       75        0     5000        3    128  ...   \n",
       "267       0.1   False       75        0     5000        3    128  ...   \n",
       "\n",
       "    SLURM_JOB_ACCOUNT SLURM_JOB_NUM_NODES test_run        date  \\\n",
       "252           commons                   1    False  2022_07_07   \n",
       "266           commons                   1    False  2022_07_07   \n",
       "267           commons                   1    False  2022_07_07   \n",
       "\n",
       "                                                  name job_id  \\\n",
       "252  Simulations/Box/Epsilon_Box3uM_037_e_100_w_3.0...     37   \n",
       "266  Simulations/Box/Epsilon_Box3uM_036_e_100_w_3.0...     36   \n",
       "267  Simulations/Box/Epsilon_Box3uM_038_e_100_w_3.0...     38   \n",
       "\n",
       "                                                 param  \\\n",
       "252  /media/cb/SATA8TB/Simulations_July2022/Box/Eps...   \n",
       "266  /media/cb/SATA8TB/Simulations_July2022/Box/Eps...   \n",
       "267  /media/cb/SATA8TB/Simulations_July2022/Box/Eps...   \n",
       "\n",
       "                                                   cif  \\\n",
       "252  /media/cb/SATA8TB/Simulations_July2022/Box/Eps...   \n",
       "266  /media/cb/SATA8TB/Simulations_July2022/Box/Eps...   \n",
       "267  /media/cb/SATA8TB/Simulations_July2022/Box/Eps...   \n",
       "\n",
       "                                                   dcd  \\\n",
       "252  /media/cb/SATA8TB/Simulations_July2022/Box/Eps...   \n",
       "266  /media/cb/SATA8TB/Simulations_July2022/Box/Eps...   \n",
       "267  /media/cb/SATA8TB/Simulations_July2022/Box/Eps...   \n",
       "\n",
       "                                                   log  \n",
       "252  /media/cb/SATA8TB/Simulations_July2022/Box/Eps...  \n",
       "266  /media/cb/SATA8TB/Simulations_July2022/Box/Eps...  \n",
       "267  /media/cb/SATA8TB/Simulations_July2022/Box/Eps...  \n",
       "\n",
       "[3 rows x 64 columns]"
      ]
     },
     "execution_count": 63,
     "metadata": {},
     "output_type": "execute_result"
    }
   ],
   "source": [
    "simulations[(simulations['epsilon']==100) &\n",
    "            (simulations['w1']==3.0) & \n",
    "            (simulations['n_abps']=='128') &\n",
    "            (simulations['aligned']=='False')]"
   ]
  },
  {
   "cell_type": "code",
   "execution_count": 349,
   "id": "73356edb",
   "metadata": {},
   "outputs": [
    {
     "name": "stderr",
     "output_type": "stream",
     "text": [
      "@> 2982 atoms and 1 coordinate set(s) were parsed in 0.03s.\n",
      "/home/cb/miniconda3/envs/openmm_dev/lib/python3.6/site-packages/ipykernel_launcher.py:88: UserWarning: FixedFormatter should only be used together with FixedLocator\n",
      "/home/cb/miniconda3/envs/openmm_dev/lib/python3.6/site-packages/ipykernel_launcher.py:109: RuntimeWarning: invalid value encountered in true_divide\n"
     ]
    },
    {
     "data": {
      "text/plain": [
       "<Figure size 720x360 with 0 Axes>"
      ]
     },
     "metadata": {},
     "output_type": "display_data"
    },
    {
     "data": {
      "image/png": "[encoded data removed]",
      "text/plain": [
       "<Figure size 432x288 with 2 Axes>"
      ]
     },
     "metadata": {
      "needs_background": "light"
     },
     "output_type": "display_data"
    },
    {
     "data": {
      "image/png": "[encoded data removed]",
      "text/plain": [
       "<Figure size 432x288 with 1 Axes>"
      ]
     },
     "metadata": {
      "needs_background": "light"
     },
     "output_type": "display_data"
    }
   ],
   "source": [
    "start=0\n",
    "stride=1\n",
    "\n",
    "selected_simulation=simulations.loc[266]\n",
    "\n",
    "root=selected_simulation['root']\n",
    "dcd=selected_simulation['dcd']\n",
    "cif=selected_simulation['cif']\n",
    "#!vmd -e ../Box_vis_500.vmd $cif $dcd\n",
    "\n",
    "\n",
    "try:\n",
    "    cif=prody.parseMMCIF(selected_simulation['cif'])\n",
    "except KeyError:\n",
    "    pass #continue\n",
    "pdbx=mdtraj.formats.pdbx.load_pdbx(selected_simulation['cif'])\n",
    "dcd=mdtraj.load_dcd(selected_simulation['dcd'],top=pdbx)\n",
    "dcd.unitcell_vectors=np.array([[[500,0,0],[0,500,0],[0,0,500]]]*len(dcd))\n",
    "\n",
    "if len(dcd)<1000:\n",
    "    print(root,len(dcd))\n",
    "    pass #continue\n",
    "\n",
    "s={}\n",
    "for name in ['Aa','Ab','Ac','Ca','Cb','Cd']:\n",
    "    selection=cif.select(f'name {name}')\n",
    "    #dcd.setAtoms(selection)\n",
    "    s.update({name:selection.getIndices()})\n",
    "#d1=np.array([sdist.cdist(a,b) for a,b in zip(s['Aa'],s['Ca'])])\n",
    "#d2=np.array([sdist.cdist(a,b) for a,b in zip(s['Ab'],s['Cb'])])\n",
    "#d3=np.array([sdist.cdist(a,b) for a,b in zip(s['Ac'],s['Cd'])])\n",
    "\n",
    "selection=cif.select('name Ca')\n",
    "dcdt=dcd[start::stride]\n",
    "\n",
    "d1=mdtraj.compute_distances(dcdt,np.array([a for a in itertools.product(s['Aa'],s['Ca'])]),periodic=True)\n",
    "d2=mdtraj.compute_distances(dcdt,np.array([a for a in itertools.product(s['Ab'],s['Cb'])]),periodic=True)\n",
    "d3=mdtraj.compute_distances(dcdt,np.array([a for a in itertools.product(s['Ac'],s['Cd'])]),periodic=True)\n",
    "\n",
    "actin_com=(dcdt.xyz[:,s['Aa']]+dcdt.xyz[:,s['Ab']]+dcdt.xyz[:,s['Ac']])/3\n",
    "abp_com=(dcdt.xyz[:,s['Ca']]+dcdt.xyz[:,s['Cb']]+dcdt.xyz[:,s['Cd']])/3\n",
    "translation=np.expand_dims(abp_com,axis=1)-np.expand_dims(actin_com,axis=2)\n",
    "rmsd_abp=((((np.expand_dims(dcdt.xyz[:,s['Ca']],axis=1)-translation-np.expand_dims(dcdt.xyz[:,s['Aa']],axis=2))**2).sum(axis=3)+\n",
    "           ((np.expand_dims(dcdt.xyz[:,s['Cb']],axis=1)-translation-np.expand_dims(dcdt.xyz[:,s['Ab']],axis=2))**2).sum(axis=3)+\n",
    "           ((np.expand_dims(dcdt.xyz[:,s['Cd']],axis=1)-translation-np.expand_dims(dcdt.xyz[:,s['Ac']],axis=2))**2).sum(axis=3))/3)**.5\n",
    "rmsd_abp.shape\n",
    "\n",
    "dd=(d1**2+d2**2+d3**2)/3\n",
    "g1=-1*(np.exp(-dd/1.0)+np.exp(-dd/0.01*1.0))/2*(d1<12.0)\n",
    "g1.shape\n",
    "\n",
    "g2=g1.reshape(len(g1),len(s['Aa']),len(s['Ca']))\n",
    "g2.shape\n",
    "\n",
    "g3_total_bind = (g2<-0.2).sum(axis=1).T>0\n",
    "g3_partial_bind = (g2<0).sum(axis=1).T > 0\n",
    "g3_states=[g3_total_bind[:,0]]\n",
    "for t in range(1,len(g3_total_bind.T)):\n",
    "    g3_state=g3_total_bind[:,t] | (g3_states[-1] & g3_partial_bind[:,t])\n",
    "    g3_states+=[g3_state]\n",
    "g3=np.array(g3_states).T\n",
    "Actin_binding=g3*1\n",
    "\n",
    "g3_total_bind = (g2<-0.2).sum(axis=2).T>0\n",
    "g3_partial_bind = (g2<0).sum(axis=2).T > 0\n",
    "g3_states=[g3_total_bind[:,0]]\n",
    "for t in range(1,len(g3_total_bind.T)):\n",
    "    g3_state=g3_total_bind[:,t] | (g3_states[-1] & g3_partial_bind[:,t])\n",
    "    g3_states+=[g3_state]\n",
    "g3=np.array(g3_states).T\n",
    "ABP_binding=g3*1\n",
    "\n",
    "\n",
    "Actin_binding[0].sum()\n",
    "\n",
    "Actin_binding_pair=g2.argmin(axis=1).T\n",
    "ABP_binding_pair=g2.argmin(axis=2).T\n",
    "Actin_binding_pair[Actin_binding==0]=-99999\n",
    "ABP_binding_pair[ABP_binding==0]=-99999\n",
    "\n",
    "plt.figure(figsize=(10,5))\n",
    "try:\n",
    "    fig,ax=pyemma.plots.plot_free_energy(np.log10((dd**.5).ravel()),rmsd_abp.ravel(),cmap='viridis')\n",
    "except ValueError:\n",
    "    pass #continue\n",
    "ax.set_xlim(-1.5,2.5)\n",
    "ax.set_ylim(0,2)\n",
    "ax.set_xticklabels([rf'$10^{{{i}}}$' for i in range(-3,5)])\n",
    "ax.set_xlabel('ABP-Binding site distance (nm)')\n",
    "ax.set_ylabel('ABP-Binding site RMSD (nm)')\n",
    "plt.savefig(f'{root}_FreeEnergy.png')\n",
    "\n",
    "sel=ABP_binding[:,200:]\n",
    "skip=0\n",
    "bound0=0\n",
    "bound1=1\n",
    "temp+=[[skip,bound0,bound1]]\n",
    "temp=[[skip,bound0,bound1]]\n",
    "for skip in range(1,100):\n",
    "    bound0=sel[:,:-skip][sel[:,skip:]==0].mean()\n",
    "    bound1=sel[:,:-skip][sel[:,skip:]==1].mean()\n",
    "    t=skip*float(simulation['frequency'])/10**6\n",
    "    temp+=[[t,bound0,bound1]]\n",
    "b_t=pd.DataFrame(temp,columns=['t','B_0','B_1'])\n",
    "t=b_t['t']\n",
    "\n",
    "bound=b_t['B_0'].values\n",
    "unbound=1-b_t['B_1'].values\n",
    "bound_ratio=(bound/unbound)[1:]\n",
    "K=bound_ratio.mean()\n",
    "y=bound+unbound\n",
    "kt=-np.log(1-y[1])/t[1]\n",
    "k=scipy.optimize.curve_fit(lambda t,k : (1-np.exp(-k*t)), t, y, p0=[kt])[0][0]\n",
    "k2=k/(1+K)\n",
    "k1=k2*K\n",
    "Aeq=k2/k\n",
    "Beq=k1/k\n",
    "plt.figure()\n",
    "plt.plot(b_t['t'],b_t['B_0'])\n",
    "plt.plot(b_t['t'],b_t['B_1'])\n",
    "plt.plot(t,k1/(k1+k2)*(1-np.exp(-(k1+k2)*t)))\n",
    "plt.plot(t,k1/(k1+k2)*(1-(1-(k1+k2)/k1)*np.exp(-(k1+k2)*t)))\n",
    "plt.xlabel('time (us)')\n",
    "plt.ylabel('Proportion bound')\n",
    "plt.legend(['Binding',\n",
    "            'Unbinding',\n",
    "            r'$k_b$='f'{np.round(k1,4)} ' r'$\\mu s^-1$',\n",
    "            r'$k_u$='f'{np.round(k2,4)} ' r'$\\mu s^-1$'])\n",
    "plt.savefig(f'{root}_BindingRate.png')\n"
   ]
  },
  {
   "cell_type": "code",
   "execution_count": null,
   "id": "f4c59cd4",
   "metadata": {},
   "outputs": [],
   "source": []
  },
  {
   "cell_type": "code",
   "execution_count": 312,
   "id": "3e887612",
   "metadata": {},
   "outputs": [
    {
     "data": {
      "text/plain": [
       "<AxesSubplot:>"
      ]
     },
     "execution_count": 312,
     "metadata": {},
     "output_type": "execute_result"
    },
    {
     "data": {
      "image/png": "[encoded data removed]",
      "text/plain": [
       "<Figure size 432x288 with 2 Axes>"
      ]
     },
     "metadata": {
      "needs_background": "light"
     },
     "output_type": "display_data"
    },
    {
     "data": {
      "image/png": "[encoded data removed]",
      "text/plain": [
       "<Figure size 432x288 with 2 Axes>"
      ]
     },
     "metadata": {
      "needs_background": "light"
     },
     "output_type": "display_data"
    }
   ],
   "source": [
    "sns.heatmap(ABP_binding)\n",
    "plt.figure()\n",
    "sns.heatmap(Actin_binding)"
   ]
  },
  {
   "cell_type": "code",
   "execution_count": 378,
   "id": "4ae0f679",
   "metadata": {},
   "outputs": [
    {
     "data": {
      "text/plain": [
       "<AxesSubplot:>"
      ]
     },
     "execution_count": 378,
     "metadata": {},
     "output_type": "execute_result"
    },
    {
     "data": {
      "image/png": "[encoded data removed]",
      "text/plain": [
       "<Figure size 432x288 with 2 Axes>"
      ]
     },
     "metadata": {
      "needs_background": "light"
     },
     "output_type": "display_data"
    }
   ],
   "source": [
    "events=ABP_binding[:,1:]-ABP_binding[:,:-1]\n",
    "sns.heatmap(events)"
   ]
  },
  {
   "cell_type": "code",
   "execution_count": 379,
   "id": "9d601946",
   "metadata": {},
   "outputs": [
    {
     "data": {
      "text/plain": [
       "(532, 618)"
      ]
     },
     "execution_count": 379,
     "metadata": {},
     "output_type": "execute_result"
    }
   ],
   "source": []
  },
  {
   "cell_type": "code",
   "execution_count": 225,
   "id": "d9b957b0",
   "metadata": {},
   "outputs": [
    {
     "data": {
      "text/plain": [
       "(219, 800)"
      ]
     },
     "execution_count": 225,
     "metadata": {},
     "output_type": "execute_result"
    }
   ],
   "source": [
    "ABP_binding[:,200:].shape"
   ]
  },
  {
   "cell_type": "code",
   "execution_count": 345,
   "id": "d70b2cb1",
   "metadata": {},
   "outputs": [
    {
     "name": "stderr",
     "output_type": "stream",
     "text": [
      "/home/cb/miniconda3/envs/openmm_dev/lib/python3.6/site-packages/ipykernel_launcher.py:21: RuntimeWarning: invalid value encountered in true_divide\n"
     ]
    },
    {
     "data": {
      "text/plain": [
       "<matplotlib.legend.Legend at 0x7f3cf88ba940>"
      ]
     },
     "execution_count": 345,
     "metadata": {},
     "output_type": "execute_result"
    },
    {
     "data": {
      "image/png": "[encoded data removed]",
      "text/plain": [
       "<Figure size 432x288 with 1 Axes>"
      ]
     },
     "metadata": {
      "needs_background": "light"
     },
     "output_type": "display_data"
    }
   ],
   "source": [
    "sel=ABP_binding[:,200:]\n",
    "skip=0\n",
    "bound0=0\n",
    "bound1=1\n",
    "temp+=[[skip,bound0,bound1]]\n",
    "temp=[[skip,bound0,bound1]]\n",
    "for skip in range(1,100):\n",
    "    bound0=sel[:,:-skip][sel[:,skip:]==0].mean()\n",
    "    bound1=sel[:,:-skip][sel[:,skip:]==1].mean()\n",
    "    t=skip*float(simulation['frequency'])/10**6\n",
    "    temp+=[[t,bound0,bound1]]\n",
    "b_t=pd.DataFrame(temp,columns=['t','B_0','B_1'])\n",
    "t=b_t['t']\n",
    "plt.plot(b_t['t'],b_t['B_0'])\n",
    "plt.plot(b_t['t'],b_t['B_1'])\n",
    "plt.xlabel('time (us)')\n",
    "plt.ylabel('Proportion bound')\n",
    "\n",
    "bound=b_t['B_0'].values\n",
    "unbound=1-b_t['B_1'].values\n",
    "bound_ratio=(bound/unbound)[1:]\n",
    "K=bound_ratio.mean()\n",
    "y=bound+unbound\n",
    "k=scipy.optimize.curve_fit(lambda t,k : (1-np.exp(-k*t)), t, y, p0=[kp])[0][0]\n",
    "k2=k/(1+K)\n",
    "k1=k2*K\n",
    "Aeq=k2/k\n",
    "Beq=k1/k\n",
    "\n",
    "plt.plot(t,k1/(k1+k2)*(1-np.exp(-(k1+k2)*t)))\n",
    "plt.plot(t,k1/(k1+k2)*(1-(1-(k1+k2)/k1)*np.exp(-(k1+k2)*t)))\n",
    "\n",
    "plt.legend(['Binding',\n",
    "            'Unbinding',\n",
    "            r'$k_b$='f'{np.round(k1,4)} ' r'$\\mu s^-1$',\n",
    "            r'$k_u$='f'{np.round(k2,4)} ' r'$\\mu s^-1$'])"
   ]
  },
  {
   "cell_type": "code",
   "execution_count": 330,
   "id": "941d5ba5",
   "metadata": {},
   "outputs": [
    {
     "data": {
      "text/plain": [
       "[<matplotlib.lines.Line2D at 0x7f3cf7178080>]"
      ]
     },
     "execution_count": 330,
     "metadata": {},
     "output_type": "execute_result"
    },
    {
     "data": {
      "image/png": "[encoded data removed]",
      "text/plain": [
       "<Figure size 432x288 with 1 Axes>"
      ]
     },
     "metadata": {
      "needs_background": "light"
     },
     "output_type": "display_data"
    }
   ],
   "source": [
    "plt.plot(bound,unbound)"
   ]
  },
  {
   "cell_type": "code",
   "execution_count": 261,
   "id": "ac8890eb",
   "metadata": {},
   "outputs": [
    {
     "name": "stdout",
     "output_type": "stream",
     "text": [
      "0.08277747796366253 0.6986386138613861 1.0143661613308672 1.064941524208202\n",
      "0.07808419785255065 0.6670701777187271 0.8043091031307608 0.8721298260529116\n"
     ]
    },
    {
     "data": {
      "text/plain": [
       "Text(0.5, 0, 'time (us)')"
      ]
     },
     "execution_count": 261,
     "metadata": {},
     "output_type": "execute_result"
    },
    {
     "data": {
      "image/png": "[encoded data removed]",
      "text/plain": [
       "<Figure size 432x288 with 1 Axes>"
      ]
     },
     "metadata": {
      "needs_background": "light"
     },
     "output_type": "display_data"
    }
   ],
   "source": [
    "import scipy.optimize\n",
    "t=(b_t['t']*float(simulation['frequency'])/10**6).values\n",
    "bound=b_t['B_1'].values\n",
    "unbound=1-b_t['B_0'].values\n",
    "\n",
    "A=bound[-1]\n",
    "kp=-np.log(1-bound[1]/A)/t[1]\n",
    "B=unbound[-1]\n",
    "km=-np.log(1-unbound[1]/B)/t[1]\n",
    "print(A,B,kp,km)\n",
    "result=scipy.optimize.curve_fit(lambda t,A,k : A*(1-np.exp(-k*t)), t, bound, p0=[A,kp])\n",
    "A,kp=result[0]\n",
    "result=scipy.optimize.curve_fit(lambda t,A,k : A*(1-np.exp(-k*t)), t, unbound, p0=[B,km])\n",
    "B,km=result[0]\n",
    "print(A,B,kp,km)\n",
    "k=(kp+km)/2\n",
    "K=A/B\n",
    "plt.plot(t,1-b_t['B_0'])\n",
    "plt.plot(t,b_t['B_1'])\n",
    "plt.plot(t,A*(1-np.exp(-kp*t)))\n",
    "plt.plot(t,B*(1-np.exp(-km*t)))\n",
    "plt.xlabel('time (us)')"
   ]
  },
  {
   "cell_type": "code",
   "execution_count": 328,
   "id": "5d9959f6",
   "metadata": {},
   "outputs": [
    {
     "data": {
      "text/plain": [
       "1.921438896261596"
      ]
     },
     "execution_count": 328,
     "metadata": {},
     "output_type": "execute_result"
    }
   ],
   "source": [
    "y[1]"
   ]
  },
  {
   "cell_type": "code",
   "execution_count": 348,
   "id": "f2f8d5df",
   "metadata": {},
   "outputs": [
    {
     "name": "stderr",
     "output_type": "stream",
     "text": [
      "/home/cb/miniconda3/envs/openmm_dev/lib/python3.6/site-packages/ipykernel_launcher.py:1: RuntimeWarning: invalid value encountered in true_divide\n",
      "  \"\"\"Entry point for launching an IPython kernel.\n"
     ]
    },
    {
     "ename": "ValueError",
     "evalue": "array must not contain infs or NaNs",
     "output_type": "error",
     "traceback": [
      "\u001b[0;31m---------------------------------------------------------------------------\u001b[0m",
      "\u001b[0;31mValueError\u001b[0m                                Traceback (most recent call last)",
      "\u001b[0;32m<ipython-input-348-29d012eaceb8>\u001b[0m in \u001b[0;36m<module>\u001b[0;34m()\u001b[0m\n\u001b[1;32m      3\u001b[0m \u001b[0my\u001b[0m\u001b[0;34m=\u001b[0m\u001b[0mbound\u001b[0m\u001b[0;34m+\u001b[0m\u001b[0munbound\u001b[0m\u001b[0;34m\u001b[0m\u001b[0;34m\u001b[0m\u001b[0m\n\u001b[1;32m      4\u001b[0m \u001b[0mkt\u001b[0m\u001b[0;34m=\u001b[0m\u001b[0;34m-\u001b[0m\u001b[0mnp\u001b[0m\u001b[0;34m.\u001b[0m\u001b[0mlog\u001b[0m\u001b[0;34m(\u001b[0m\u001b[0;36m1\u001b[0m\u001b[0;34m-\u001b[0m\u001b[0my\u001b[0m\u001b[0;34m[\u001b[0m\u001b[0;36m1\u001b[0m\u001b[0;34m]\u001b[0m\u001b[0;34m)\u001b[0m\u001b[0;34m/\u001b[0m\u001b[0mt\u001b[0m\u001b[0;34m[\u001b[0m\u001b[0;36m1\u001b[0m\u001b[0;34m]\u001b[0m\u001b[0;34m\u001b[0m\u001b[0;34m\u001b[0m\u001b[0m\n\u001b[0;32m----> 5\u001b[0;31m \u001b[0mk\u001b[0m\u001b[0;34m=\u001b[0m\u001b[0mscipy\u001b[0m\u001b[0;34m.\u001b[0m\u001b[0moptimize\u001b[0m\u001b[0;34m.\u001b[0m\u001b[0mcurve_fit\u001b[0m\u001b[0;34m(\u001b[0m\u001b[0;32mlambda\u001b[0m \u001b[0mt\u001b[0m\u001b[0;34m,\u001b[0m\u001b[0mk\u001b[0m \u001b[0;34m:\u001b[0m \u001b[0;34m(\u001b[0m\u001b[0;36m1\u001b[0m\u001b[0;34m-\u001b[0m\u001b[0mnp\u001b[0m\u001b[0;34m.\u001b[0m\u001b[0mexp\u001b[0m\u001b[0;34m(\u001b[0m\u001b[0;34m-\u001b[0m\u001b[0mk\u001b[0m\u001b[0;34m*\u001b[0m\u001b[0mt\u001b[0m\u001b[0;34m)\u001b[0m\u001b[0;34m)\u001b[0m\u001b[0;34m,\u001b[0m \u001b[0mt\u001b[0m\u001b[0;34m,\u001b[0m \u001b[0my\u001b[0m\u001b[0;34m,\u001b[0m \u001b[0mp0\u001b[0m\u001b[0;34m=\u001b[0m\u001b[0;34m[\u001b[0m\u001b[0mkt\u001b[0m\u001b[0;34m]\u001b[0m\u001b[0;34m)\u001b[0m\u001b[0;34m[\u001b[0m\u001b[0;36m0\u001b[0m\u001b[0;34m]\u001b[0m\u001b[0;34m[\u001b[0m\u001b[0;36m0\u001b[0m\u001b[0;34m]\u001b[0m\u001b[0;34m\u001b[0m\u001b[0;34m\u001b[0m\u001b[0m\n\u001b[0m\u001b[1;32m      6\u001b[0m \u001b[0mk2\u001b[0m\u001b[0;34m=\u001b[0m\u001b[0mk\u001b[0m\u001b[0;34m/\u001b[0m\u001b[0;34m(\u001b[0m\u001b[0;36m1\u001b[0m\u001b[0;34m+\u001b[0m\u001b[0mK\u001b[0m\u001b[0;34m)\u001b[0m\u001b[0;34m\u001b[0m\u001b[0;34m\u001b[0m\u001b[0m\n\u001b[1;32m      7\u001b[0m \u001b[0mk1\u001b[0m\u001b[0;34m=\u001b[0m\u001b[0mk2\u001b[0m\u001b[0;34m*\u001b[0m\u001b[0mK\u001b[0m\u001b[0;34m\u001b[0m\u001b[0;34m\u001b[0m\u001b[0m\n",
      "\u001b[0;32m/home/cb/miniconda3/envs/openmm_dev/lib/python3.6/site-packages/scipy/optimize/minpack.py\u001b[0m in \u001b[0;36mcurve_fit\u001b[0;34m(f, xdata, ydata, p0, sigma, absolute_sigma, check_finite, bounds, method, jac, **kwargs)\u001b[0m\n\u001b[1;32m    732\u001b[0m     \u001b[0;31m# NaNs cannot be handled\u001b[0m\u001b[0;34m\u001b[0m\u001b[0;34m\u001b[0m\u001b[0;34m\u001b[0m\u001b[0m\n\u001b[1;32m    733\u001b[0m     \u001b[0;32mif\u001b[0m \u001b[0mcheck_finite\u001b[0m\u001b[0;34m:\u001b[0m\u001b[0;34m\u001b[0m\u001b[0;34m\u001b[0m\u001b[0m\n\u001b[0;32m--> 734\u001b[0;31m         \u001b[0mydata\u001b[0m \u001b[0;34m=\u001b[0m \u001b[0mnp\u001b[0m\u001b[0;34m.\u001b[0m\u001b[0masarray_chkfinite\u001b[0m\u001b[0;34m(\u001b[0m\u001b[0mydata\u001b[0m\u001b[0;34m,\u001b[0m \u001b[0mfloat\u001b[0m\u001b[0;34m)\u001b[0m\u001b[0;34m\u001b[0m\u001b[0;34m\u001b[0m\u001b[0m\n\u001b[0m\u001b[1;32m    735\u001b[0m     \u001b[0;32melse\u001b[0m\u001b[0;34m:\u001b[0m\u001b[0;34m\u001b[0m\u001b[0;34m\u001b[0m\u001b[0m\n\u001b[1;32m    736\u001b[0m         \u001b[0mydata\u001b[0m \u001b[0;34m=\u001b[0m \u001b[0mnp\u001b[0m\u001b[0;34m.\u001b[0m\u001b[0masarray\u001b[0m\u001b[0;34m(\u001b[0m\u001b[0mydata\u001b[0m\u001b[0;34m,\u001b[0m \u001b[0mfloat\u001b[0m\u001b[0;34m)\u001b[0m\u001b[0;34m\u001b[0m\u001b[0;34m\u001b[0m\u001b[0m\n",
      "\u001b[0;32m/home/cb/miniconda3/envs/openmm_dev/lib/python3.6/site-packages/numpy/lib/function_base.py\u001b[0m in \u001b[0;36masarray_chkfinite\u001b[0;34m(a, dtype, order)\u001b[0m\n\u001b[1;32m    484\u001b[0m     \u001b[0;32mif\u001b[0m \u001b[0ma\u001b[0m\u001b[0;34m.\u001b[0m\u001b[0mdtype\u001b[0m\u001b[0;34m.\u001b[0m\u001b[0mchar\u001b[0m \u001b[0;32min\u001b[0m \u001b[0mtypecodes\u001b[0m\u001b[0;34m[\u001b[0m\u001b[0;34m'AllFloat'\u001b[0m\u001b[0;34m]\u001b[0m \u001b[0;32mand\u001b[0m \u001b[0;32mnot\u001b[0m \u001b[0mnp\u001b[0m\u001b[0;34m.\u001b[0m\u001b[0misfinite\u001b[0m\u001b[0;34m(\u001b[0m\u001b[0ma\u001b[0m\u001b[0;34m)\u001b[0m\u001b[0;34m.\u001b[0m\u001b[0mall\u001b[0m\u001b[0;34m(\u001b[0m\u001b[0;34m)\u001b[0m\u001b[0;34m:\u001b[0m\u001b[0;34m\u001b[0m\u001b[0;34m\u001b[0m\u001b[0m\n\u001b[1;32m    485\u001b[0m         raise ValueError(\n\u001b[0;32m--> 486\u001b[0;31m             \"array must not contain infs or NaNs\")\n\u001b[0m\u001b[1;32m    487\u001b[0m     \u001b[0;32mreturn\u001b[0m \u001b[0ma\u001b[0m\u001b[0;34m\u001b[0m\u001b[0;34m\u001b[0m\u001b[0m\n\u001b[1;32m    488\u001b[0m \u001b[0;34m\u001b[0m\u001b[0m\n",
      "\u001b[0;31mValueError\u001b[0m: array must not contain infs or NaNs"
     ]
    }
   ],
   "source": [
    "bound_ratio=(bound/unbound)[1:]\n",
    "K=bound_ratio.mean()\n",
    "y=bound+unbound\n",
    "kt=-np.log(1-y[1])/t[1]\n",
    "k=scipy.optimize.curve_fit(lambda t,k : (1-np.exp(-k*t)), t, y, p0=[kt])[0][0]\n",
    "k2=k/(1+K)\n",
    "k1=k2*K\n"
   ]
  },
  {
   "cell_type": "code",
   "execution_count": null,
   "id": "a4e0f3d8",
   "metadata": {},
   "outputs": [],
   "source": []
  },
  {
   "cell_type": "code",
   "execution_count": 323,
   "id": "37000b23",
   "metadata": {},
   "outputs": [
    {
     "data": {
      "text/plain": [
       "[<matplotlib.lines.Line2D at 0x7f3cf8c72d30>]"
      ]
     },
     "execution_count": 323,
     "metadata": {},
     "output_type": "execute_result"
    },
    {
     "data": {
      "image/png": "[encoded data removed]",
      "text/plain": [
       "<Figure size 432x288 with 1 Axes>"
      ]
     },
     "metadata": {
      "needs_background": "light"
     },
     "output_type": "display_data"
    }
   ],
   "source": [
    "Aeq=k2/k\n",
    "Beq=k1/k\n",
    "plt.plot(t,b_t['B_0'])\n",
    "plt.plot(t,b_t['B_1'])\n",
    "plt.plot(t,k1/(k1+k2)*(1-(1-(k1+k2)/k1)*np.exp(-(k1+k2)*t)))\n",
    "plt.plot(t,k1/(k1+k2)*(1-np.exp(-(k1+k2)*t)))"
   ]
  },
  {
   "cell_type": "code",
   "execution_count": 296,
   "id": "3ac85dd4",
   "metadata": {},
   "outputs": [
    {
     "name": "stdout",
     "output_type": "stream",
     "text": [
      "Info) VMD for LINUXAMD64, version 1.9.4a55 (October 19, 2021)\n",
      "Info) http://www.ks.uiuc.edu/Research/vmd/                         \n",
      "Info) Email questions and bug reports to vmd@ks.uiuc.edu           \n",
      "Info) Please include this reference in published work using VMD:   \n",
      "Info)    Humphrey, W., Dalke, A. and Schulten, K., `VMD - Visual   \n",
      "Info)    Molecular Dynamics', J. Molec. Graphics 1996, 14.1, 33-38.\n",
      "Info) -------------------------------------------------------------\n",
      "Info) Multithreading available, 12 CPUs, ISA dispatch enabled.\n",
      "Info)   CPU features: SSE2 SSE4.1 AVX AVX2 FMA F16 HT \n",
      "Info) Free system memory: 91GB (72%)\n",
      "Info) Creating CUDA device pool and initializing hardware...\n",
      "Info) Detected 1 available CUDA accelerator::\n",
      "Info) [0] NVIDIA GeForce RTX 3080 Ti 80 SM_8.6 1.7 GHz, 12GB RAM SP32 KT AE2 ZC\n",
      "Info) OpenGL renderer: NVIDIA GeForce RTX 3080 Ti/PCIe/SSE2\n",
      "Info)   Features: STENCIL MSAA(4) MDE CVA MTX NPOT PP PS GLSL(OVFGS) \n",
      "Info)   Full GLSL rendering mode is available.\n",
      "Info)   Textures: 2-D (32768x32768), 3-D (16384x16384x16384), Multitexture (4)\n",
      "OpenGLDisplayDevice) Creating OptiX RTRT context...\n",
      "OpenGLDisplayDevice) OptiX RTRT context created.\n",
      "Info) Detected 1 available TachyonL/OptiX ray tracing accelerator\n",
      "Info)   Compiling  OptiX shaders on 1 target GPU...\n",
      "Info) Dynamically loaded 3 plugins in directory:\n",
      "Info) /usr/local/lib/vmd/plugins/LINUXAMD64/molfile\n",
      "Info) File loading in progress, please wait.\n",
      "Info) Using plugin pdbx for structure file /media/cb/SATA8TB/Simulations_July2022/Box/Epsilon_Box3uM_036_e_100_w_3.0_a_False_n_128_r_0.cif\n",
      "Info) Reading 0 graphics elements...\n",
      "Info) Using plugin pdbx for coordinates from file /media/cb/SATA8TB/Simulations_July2022/Box/Epsilon_Box3uM_036_e_100_w_3.0_a_False_n_128_r_0.cif\n",
      "Info) Determining bond structure from distance search ...\n",
      "Info) Finished with coordinate file /media/cb/SATA8TB/Simulations_July2022/Box/Epsilon_Box3uM_036_e_100_w_3.0_a_False_n_128_r_0.cif.\n",
      "Info) Analyzing structure ...\n",
      "Info)    Atoms: 2982\n",
      "Info)    Bonds: 0\n",
      "Info)    Angles: 0  Dihedrals: 0  Impropers: 0  Cross-terms: 0\n",
      "Info)    Bondtypes: 0  Angletypes: 0  Dihedraltypes: 0  Impropertypes: 0\n",
      "Info)    Residues: 2982\n",
      "Info)    Waters: 0\n",
      "Info)    Segments: 1\n",
      "Info)    Fragments: 2982   Protein: 0   Nucleic: 0\n",
      "dcdplugin) detected standard 32-bit DCD file of native endianness\n",
      "dcdplugin) CHARMM format DCD file (also NAMD 2.1 and later)\n",
      "Info) Using plugin dcd for coordinates from file /media/cb/SATA8TB/Simulations_July2022/Box/Epsilon_Box3uM_036_e_100_w_3.0_a_False_n_128_r_0.dcd\n",
      "Info) Finished with coordinate file /media/cb/SATA8TB/Simulations_July2022/Box/Epsilon_Box3uM_036_e_100_w_3.0_a_False_n_128_r_0.dcd.\n",
      "0\n",
      "graphics: invalid material: 0\n",
      "{{1 0 0 -5344.26} {0 1 0 -5613.75} {0 0 1 -4760.16} {0 0 0 1}} {{1 0 0 0} {0 1 0 0} {0 0 1 0} {0 0 0 1}} {{0.000258059 0 0 0} {0 0.000258059 0 0} {0 0 0.000258059 0} {0 0 0 1}} {{1 0 0 0.09} {0 1 0 0.16} {0 0 1 0} {0 0 0 1}}\n",
      "0\n",
      "0\n",
      "vmd > Info) VMD for LINUXAMD64, version 1.9.4a55 (October 19, 2021)\n",
      "Info) Exiting normally.\n",
      "OpenGLDisplayDevice) Destroying OptiX RTRT context...\n",
      "OpenGLDisplayDevice) OptiX RTRT context destroyed.\n"
     ]
    }
   ],
   "source": [
    "dcd=selected_simulation['dcd']\n",
    "cif=selected_simulation['cif']\n",
    "!vmd -e ../Box_vis_500.vmd $cif $dcd"
   ]
  },
  {
   "cell_type": "code",
   "execution_count": null,
   "id": "a75dbdaa",
   "metadata": {},
   "outputs": [],
   "source": [
    "!vmd simu"
   ]
  },
  {
   "cell_type": "code",
   "execution_count": 280,
   "id": "2a2adccf",
   "metadata": {},
   "outputs": [
    {
     "ename": "ValueError",
     "evalue": "object too deep for desired array",
     "output_type": "error",
     "traceback": [
      "\u001b[0;31m---------------------------------------------------------------------------\u001b[0m",
      "\u001b[0;31mValueError\u001b[0m                                Traceback (most recent call last)",
      "\u001b[0;31mValueError\u001b[0m: object too deep for desired array"
     ]
    },
    {
     "ename": "error",
     "evalue": "Result from function call is not a proper array of floats.",
     "output_type": "error",
     "traceback": [
      "\u001b[0;31m---------------------------------------------------------------------------\u001b[0m",
      "\u001b[0;31merror\u001b[0m                                     Traceback (most recent call last)",
      "\u001b[0;32m<ipython-input-280-4e5a09170d9e>\u001b[0m in \u001b[0;36m<module>\u001b[0;34m()\u001b[0m\n\u001b[1;32m      1\u001b[0m \u001b[0mk\u001b[0m\u001b[0;34m=\u001b[0m\u001b[0mnp\u001b[0m\u001b[0;34m.\u001b[0m\u001b[0marray\u001b[0m\u001b[0;34m(\u001b[0m\u001b[0;34m[\u001b[0m\u001b[0;34m[\u001b[0m\u001b[0mkp\u001b[0m\u001b[0;34m]\u001b[0m\u001b[0;34m,\u001b[0m\u001b[0;34m[\u001b[0m\u001b[0mkm\u001b[0m\u001b[0;34m]\u001b[0m\u001b[0;34m]\u001b[0m\u001b[0;34m)\u001b[0m\u001b[0;34m/\u001b[0m\u001b[0;34m(\u001b[0m\u001b[0mkp\u001b[0m\u001b[0;34m+\u001b[0m\u001b[0mkm\u001b[0m\u001b[0;34m)\u001b[0m\u001b[0;34m\u001b[0m\u001b[0;34m\u001b[0m\u001b[0m\n\u001b[1;32m      2\u001b[0m \u001b[0my\u001b[0m\u001b[0;34m=\u001b[0m\u001b[0mk\u001b[0m\u001b[0;34m+\u001b[0m\u001b[0;34m(\u001b[0m\u001b[0;34m-\u001b[0m\u001b[0mk\u001b[0m\u001b[0;34m)\u001b[0m\u001b[0;34m*\u001b[0m\u001b[0mnp\u001b[0m\u001b[0;34m.\u001b[0m\u001b[0mexp\u001b[0m\u001b[0;34m(\u001b[0m\u001b[0;34m-\u001b[0m\u001b[0;34m(\u001b[0m\u001b[0mkp\u001b[0m\u001b[0;34m+\u001b[0m\u001b[0mkm\u001b[0m\u001b[0;34m)\u001b[0m\u001b[0;34m*\u001b[0m\u001b[0mt\u001b[0m\u001b[0;34m)\u001b[0m\u001b[0;34m\u001b[0m\u001b[0;34m\u001b[0m\u001b[0m\n\u001b[0;32m----> 3\u001b[0;31m \u001b[0mscipy\u001b[0m\u001b[0;34m.\u001b[0m\u001b[0moptimize\u001b[0m\u001b[0;34m.\u001b[0m\u001b[0mcurve_fit\u001b[0m\u001b[0;34m(\u001b[0m\u001b[0;32mlambda\u001b[0m \u001b[0mt\u001b[0m\u001b[0;34m,\u001b[0m\u001b[0mk\u001b[0m \u001b[0;34m:\u001b[0m \u001b[0;34m(\u001b[0m\u001b[0;36m1\u001b[0m\u001b[0;34m-\u001b[0m\u001b[0mnp\u001b[0m\u001b[0;34m.\u001b[0m\u001b[0mexp\u001b[0m\u001b[0;34m(\u001b[0m\u001b[0;34m-\u001b[0m\u001b[0mk\u001b[0m\u001b[0;34m*\u001b[0m\u001b[0mt\u001b[0m\u001b[0;34m)\u001b[0m\u001b[0;34m)\u001b[0m\u001b[0;34m,\u001b[0m \u001b[0mt\u001b[0m\u001b[0;34m,\u001b[0m \u001b[0my\u001b[0m\u001b[0;34m,\u001b[0m \u001b[0mp0\u001b[0m\u001b[0;34m=\u001b[0m\u001b[0;34m[\u001b[0m\u001b[0mkp\u001b[0m\u001b[0;34m]\u001b[0m\u001b[0;34m)\u001b[0m\u001b[0;34m\u001b[0m\u001b[0;34m\u001b[0m\u001b[0m\n\u001b[0m\u001b[1;32m      4\u001b[0m \u001b[0;34m\u001b[0m\u001b[0m\n\u001b[1;32m      5\u001b[0m \u001b[0;34m\u001b[0m\u001b[0m\n",
      "\u001b[0;32m/home/cb/miniconda3/envs/openmm_dev/lib/python3.6/site-packages/scipy/optimize/minpack.py\u001b[0m in \u001b[0;36mcurve_fit\u001b[0;34m(f, xdata, ydata, p0, sigma, absolute_sigma, check_finite, bounds, method, jac, **kwargs)\u001b[0m\n\u001b[1;32m    782\u001b[0m         \u001b[0;31m# Remove full_output from kwargs, otherwise we're passing it in twice.\u001b[0m\u001b[0;34m\u001b[0m\u001b[0;34m\u001b[0m\u001b[0;34m\u001b[0m\u001b[0m\n\u001b[1;32m    783\u001b[0m         \u001b[0mreturn_full\u001b[0m \u001b[0;34m=\u001b[0m \u001b[0mkwargs\u001b[0m\u001b[0;34m.\u001b[0m\u001b[0mpop\u001b[0m\u001b[0;34m(\u001b[0m\u001b[0;34m'full_output'\u001b[0m\u001b[0;34m,\u001b[0m \u001b[0;32mFalse\u001b[0m\u001b[0;34m)\u001b[0m\u001b[0;34m\u001b[0m\u001b[0;34m\u001b[0m\u001b[0m\n\u001b[0;32m--> 784\u001b[0;31m         \u001b[0mres\u001b[0m \u001b[0;34m=\u001b[0m \u001b[0mleastsq\u001b[0m\u001b[0;34m(\u001b[0m\u001b[0mfunc\u001b[0m\u001b[0;34m,\u001b[0m \u001b[0mp0\u001b[0m\u001b[0;34m,\u001b[0m \u001b[0mDfun\u001b[0m\u001b[0;34m=\u001b[0m\u001b[0mjac\u001b[0m\u001b[0;34m,\u001b[0m \u001b[0mfull_output\u001b[0m\u001b[0;34m=\u001b[0m\u001b[0;36m1\u001b[0m\u001b[0;34m,\u001b[0m \u001b[0;34m**\u001b[0m\u001b[0mkwargs\u001b[0m\u001b[0;34m)\u001b[0m\u001b[0;34m\u001b[0m\u001b[0;34m\u001b[0m\u001b[0m\n\u001b[0m\u001b[1;32m    785\u001b[0m         \u001b[0mpopt\u001b[0m\u001b[0;34m,\u001b[0m \u001b[0mpcov\u001b[0m\u001b[0;34m,\u001b[0m \u001b[0minfodict\u001b[0m\u001b[0;34m,\u001b[0m \u001b[0merrmsg\u001b[0m\u001b[0;34m,\u001b[0m \u001b[0mier\u001b[0m \u001b[0;34m=\u001b[0m \u001b[0mres\u001b[0m\u001b[0;34m\u001b[0m\u001b[0;34m\u001b[0m\u001b[0m\n\u001b[1;32m    786\u001b[0m         \u001b[0mysize\u001b[0m \u001b[0;34m=\u001b[0m \u001b[0mlen\u001b[0m\u001b[0;34m(\u001b[0m\u001b[0minfodict\u001b[0m\u001b[0;34m[\u001b[0m\u001b[0;34m'fvec'\u001b[0m\u001b[0;34m]\u001b[0m\u001b[0;34m)\u001b[0m\u001b[0;34m\u001b[0m\u001b[0;34m\u001b[0m\u001b[0m\n",
      "\u001b[0;32m/home/cb/miniconda3/envs/openmm_dev/lib/python3.6/site-packages/scipy/optimize/minpack.py\u001b[0m in \u001b[0;36mleastsq\u001b[0;34m(func, x0, args, Dfun, full_output, col_deriv, ftol, xtol, gtol, maxfev, epsfcn, factor, diag)\u001b[0m\n\u001b[1;32m    421\u001b[0m             \u001b[0mmaxfev\u001b[0m \u001b[0;34m=\u001b[0m \u001b[0;36m200\u001b[0m\u001b[0;34m*\u001b[0m\u001b[0;34m(\u001b[0m\u001b[0mn\u001b[0m \u001b[0;34m+\u001b[0m \u001b[0;36m1\u001b[0m\u001b[0;34m)\u001b[0m\u001b[0;34m\u001b[0m\u001b[0;34m\u001b[0m\u001b[0m\n\u001b[1;32m    422\u001b[0m         retval = _minpack._lmdif(func, x0, args, full_output, ftol, xtol,\n\u001b[0;32m--> 423\u001b[0;31m                                  gtol, maxfev, epsfcn, factor, diag)\n\u001b[0m\u001b[1;32m    424\u001b[0m     \u001b[0;32melse\u001b[0m\u001b[0;34m:\u001b[0m\u001b[0;34m\u001b[0m\u001b[0;34m\u001b[0m\u001b[0m\n\u001b[1;32m    425\u001b[0m         \u001b[0;32mif\u001b[0m \u001b[0mcol_deriv\u001b[0m\u001b[0;34m:\u001b[0m\u001b[0;34m\u001b[0m\u001b[0;34m\u001b[0m\u001b[0m\n",
      "\u001b[0;31merror\u001b[0m: Result from function call is not a proper array of floats."
     ]
    }
   ],
   "source": [
    "k=np.array([[kp],[km]])/(kp+km)\n",
    "y=k+(-k)*np.exp(-(kp+km)*t)\n",
    "\n",
    "\n",
    "\n",
    "#plt.plot(t,y.T)\n"
   ]
  },
  {
   "cell_type": "code",
   "execution_count": 148,
   "id": "de3b27af",
   "metadata": {},
   "outputs": [],
   "source": [
    "binding_probabilities=[0]\n",
    "unbinding_probabilities=[0]\n",
    "for skip in range(1,101):\n",
    "    events=ABP_binding[:,skip:]-ABP_binding[:,:-skip]\n",
    "    binding_probability=(events>0).sum(axis=0)/(ABP_binding[:,:-skip]==0).sum(axis=0)\n",
    "    unbinding_probability=(events<0).sum(axis=0)/(ABP_binding[:,:-skip]==1).sum(axis=0)\n",
    "    #plt.plot(binding_probability)\n",
    "    #plt.plot(unbinding_probability)\n",
    "    binding_probabilities+=[binding_probability.mean()]\n",
    "    unbinding_probabilities+=[unbinding_probability.mean()]"
   ]
  },
  {
   "cell_type": "code",
   "execution_count": 163,
   "id": "8f7defc6",
   "metadata": {},
   "outputs": [],
   "source": [
    "t=np.arange(0,len(binding_probabilities))*float(simulation['frequency'])/10**6"
   ]
  },
  {
   "cell_type": "code",
   "execution_count": 207,
   "id": "1a412616",
   "metadata": {},
   "outputs": [
    {
     "data": {
      "text/plain": [
       "Text(0.5, 0, 'time (us)')"
      ]
     },
     "execution_count": 207,
     "metadata": {},
     "output_type": "execute_result"
    },
    {
     "data": {
      "image/png": "[encoded data removed]",
      "text/plain": [
       "<Figure size 432x288 with 1 Axes>"
      ]
     },
     "metadata": {
      "needs_background": "light"
     },
     "output_type": "display_data"
    }
   ],
   "source": [
    "plt.plot(t,binding_probabilities)\n",
    "plt.plot(t,unbinding_probabilities)\n",
    "plt.xlabel('time (us)')"
   ]
  },
  {
   "cell_type": "markdown",
   "id": "6cc0949f",
   "metadata": {},
   "source": [
    "$$ [A] \\xrightarrow{k_b} [B] $$\n",
    "$$ [B] \\xrightarrow{k_u} [A] $$\n",
    "$$ \\frac{d[A]}{dt} = k_u[B] - k_b[A] $$\n",
    "$$ \\frac{d[B]}{dt} = k_b[A] - k_u[B] $$\n",
    "$$ [A](t) = {[A]}_{eq} + ({[A]}_0 – {[A]}_{eq})e^{–(k_1+k_2)t}$$\n",
    "if ${[A]}_{eq} = 0$\n",
    "$$ [A](t) = {[A]}_{eq} (1-e^{–(k_1+k_2)t})$$"
   ]
  },
  {
   "cell_type": "code",
   "execution_count": 188,
   "id": "6c0e8624",
   "metadata": {},
   "outputs": [
    {
     "data": {
      "text/plain": [
       "1.0472065014884084e-06"
      ]
     },
     "execution_count": 188,
     "metadata": {},
     "output_type": "execute_result"
    }
   ],
   "source": [
    "A=binding_probabilities[-1]\n",
    "k=-np.log(1-binding_probabilities[1]/A)/t[1]"
   ]
  },
  {
   "cell_type": "code",
   "execution_count": 194,
   "id": "dcbafc67",
   "metadata": {},
   "outputs": [
    {
     "data": {
      "text/plain": [
       "array([       0.,   100000.,   200000.,   300000.,   400000.,   500000.,\n",
       "         600000.,   700000.,   800000.,   900000.,  1000000.,  1100000.,\n",
       "        1200000.,  1300000.,  1400000.,  1500000.,  1600000.,  1700000.,\n",
       "        1800000.,  1900000.,  2000000.,  2100000.,  2200000.,  2300000.,\n",
       "        2400000.,  2500000.,  2600000.,  2700000.,  2800000.,  2900000.,\n",
       "        3000000.,  3100000.,  3200000.,  3300000.,  3400000.,  3500000.,\n",
       "        3600000.,  3700000.,  3800000.,  3900000.,  4000000.,  4100000.,\n",
       "        4200000.,  4300000.,  4400000.,  4500000.,  4600000.,  4700000.,\n",
       "        4800000.,  4900000.,  5000000.,  5100000.,  5200000.,  5300000.,\n",
       "        5400000.,  5500000.,  5600000.,  5700000.,  5800000.,  5900000.,\n",
       "        6000000.,  6100000.,  6200000.,  6300000.,  6400000.,  6500000.,\n",
       "        6600000.,  6700000.,  6800000.,  6900000.,  7000000.,  7100000.,\n",
       "        7200000.,  7300000.,  7400000.,  7500000.,  7600000.,  7700000.,\n",
       "        7800000.,  7900000.,  8000000.,  8100000.,  8200000.,  8300000.,\n",
       "        8400000.,  8500000.,  8600000.,  8700000.,  8800000.,  8900000.,\n",
       "        9000000.,  9100000.,  9200000.,  9300000.,  9400000.,  9500000.,\n",
       "        9600000.,  9700000.,  9800000.,  9900000., 10000000.])"
      ]
     },
     "execution_count": 194,
     "metadata": {},
     "output_type": "execute_result"
    }
   ],
   "source": [
    "t"
   ]
  },
  {
   "cell_type": "code",
   "execution_count": 205,
   "id": "6e1714b7",
   "metadata": {},
   "outputs": [
    {
     "name": "stdout",
     "output_type": "stream",
     "text": [
      "0.07869381165912244 0.7018723902146848 1.0472065014884084 1.1674407514348824\n",
      "0.07500982493986745 0.6748918062142443 0.8463737259183681 1.0146321659120354\n"
     ]
    }
   ],
   "source": [
    "import scipy.optimize\n",
    "t=np.arange(0,len(binding_probabilities))*float(simulation['frequency'])/10**6\n",
    "A=binding_probabilities[-1]\n",
    "kp=-np.log(1-binding_probabilities[1]/A)/t[1]\n",
    "B=unbinding_probabilities[-1]\n",
    "km=-np.log(1-unbinding_probabilities[1]/B)/t[1]\n",
    "print(A,B,kp,km)\n",
    "result=scipy.optimize.curve_fit(lambda t,A,k : A*(1-np.exp(-k*t)), t, binding_probabilities, p0=[A,kp])\n",
    "A,kp=result[0]\n",
    "result=scipy.optimize.curve_fit(lambda t,A,k : A*(1-np.exp(-k*t)), t, unbinding_probabilities, p0=[B,km])\n",
    "B,km=result[0]\n",
    "print(A,B,kp,km)\n",
    "k=(kp+km)/2\n",
    "K=A/B\n"
   ]
  },
  {
   "cell_type": "code",
   "execution_count": 201,
   "id": "14f61251",
   "metadata": {},
   "outputs": [
    {
     "data": {
      "text/plain": [
       "3.720075976020836e-44"
      ]
     },
     "execution_count": 201,
     "metadata": {},
     "output_type": "execute_result"
    }
   ],
   "source": [
    "np.exp(-100)"
   ]
  },
  {
   "cell_type": "code",
   "execution_count": 176,
   "id": "9ec04e1f",
   "metadata": {},
   "outputs": [
    {
     "data": {
      "text/plain": [
       "[<matplotlib.lines.Line2D at 0x7f3ccd880080>]"
      ]
     },
     "execution_count": 176,
     "metadata": {},
     "output_type": "execute_result"
    },
    {
     "data": {
      "image/png": "[encoded data removed]",
      "text/plain": [
       "<Figure size 432x288 with 1 Axes>"
      ]
     },
     "metadata": {
      "needs_background": "light"
     },
     "output_type": "display_data"
    }
   ],
   "source": [
    "k=1E-6\n",
    "plt.plot(t,0.7*(1-np.exp(-k*t)))"
   ]
  },
  {
   "cell_type": "code",
   "execution_count": 147,
   "id": "9943deb2",
   "metadata": {},
   "outputs": [
    {
     "data": {
      "text/plain": [
       "[<matplotlib.lines.Line2D at 0x7f3cbc4042e8>]"
      ]
     },
     "execution_count": 147,
     "metadata": {},
     "output_type": "execute_result"
    },
    {
     "data": {
      "image/png": "[encoded data removed]",
      "text/plain": [
       "<Figure size 432x288 with 1 Axes>"
      ]
     },
     "metadata": {
      "needs_background": "light"
     },
     "output_type": "display_data"
    }
   ],
   "source": [
    "plt.plot(np.array(binding_probabilities) / np.array(unbinding_probabilities))"
   ]
  },
  {
   "cell_type": "code",
   "execution_count": null,
   "id": "c648a14a",
   "metadata": {},
   "outputs": [],
   "source": []
  },
  {
   "cell_type": "code",
   "execution_count": 91,
   "id": "902b64ed",
   "metadata": {},
   "outputs": [
    {
     "data": {
      "text/plain": [
       "[<matplotlib.lines.Line2D at 0x7f3cf238e898>]"
      ]
     },
     "execution_count": 91,
     "metadata": {},
     "output_type": "execute_result"
    },
    {
     "data": {
      "image/png": "[encoded data removed]",
      "text/plain": [
       "<Figure size 432x288 with 1 Axes>"
      ]
     },
     "metadata": {
      "needs_background": "light"
     },
     "output_type": "display_data"
    }
   ],
   "source": [
    "plt.plot((events>0).sum(axis=0)-(events<0).sum(axis=0))\n",
    "#plt.plot((events<0).sum(axis=0))"
   ]
  },
  {
   "cell_type": "code",
   "execution_count": 110,
   "id": "2e14180f",
   "metadata": {},
   "outputs": [
    {
     "data": {
      "text/plain": [
       "array([ -3,   1,   2,   2,   2,   0,   1,   0,  -3,  -1,   0,   3,   1,\n",
       "         0,   1,  -1,  -2,   1,   0,   0,   0,   1,   1,   1,  -1,   0,\n",
       "         0,   1,   0,  -2,   0,  -2,   4,   1,  -2,   1,   0,   0,   0,\n",
       "         1,  -6,   1,   0,  -1,  -1,  -7,  -2,   0,   0,   0,   1,   2,\n",
       "        -2,   0,   0,   2,   0,  -1,   0,   0,   1,   2,  -1,   0,   1,\n",
       "         1,   1,   1,   2,   3,  -1,  -1,   0,   0,   2,   2,   1,   3,\n",
       "        -1,  -3,  -1,  -1,   0,  -3,   2,   1,   0,   1,   2,  -3,   0,\n",
       "         0,   1,   2,  -2,   0,  -1,  -1,  -1,   1,   2,  -2,  -1,  -3,\n",
       "         1,  -3,   1,   0,  -1,   2,   1,   2,   1,  -3,   0,   0,   1,\n",
       "         1,   1,   1,   2,   0,   0,   3,   2,   4,  -3,  -5,  -1,  -1,\n",
       "        -1,   1,   0,   2,   0,  -3,   0,   0,  -2,  -2,   2,   1,   1,\n",
       "         0,   2,   1,  -2,   4,   0,   3,   2,  -2,   0,   0,  -5,  -1,\n",
       "         1,   1,  -1,   0,   1,   2,  -2,   0,   1,   2,   1,   0,   2,\n",
       "        -5,   1,   0,  -1,   0,   0,   1,   2,   2,   0,   0,   2,   1,\n",
       "         2,   1,  -1,   1,   1,   1,  -5,  -4,  -1,   2,   0,   2,  -2,\n",
       "         1,   2,   0,   0,  -1,   2,   1, -11,   1,   6,  -1,   2,   4,\n",
       "        -4,   0,  -1,   0,   0,  -1,   1,  -1,   2,  -1,   6,   5,   2,\n",
       "         0,  -2,  -1,  -5,   0,  -1,   1,   1,  -1,   2,   0,   0,   3,\n",
       "         0,   1,  -3,   2,   0,   3,  -3,   4,   2,   1,   0,  -2,   1,\n",
       "         1,   1,   0,   0,  -4,   0,   3,  -1,   1,   0,   3,  -2,   3,\n",
       "        -1,   0,   0,  -1,  -1,  -1,  -1,   0,   0,   0,   0,   1,   0,\n",
       "         1,   0,   0,   1,  -2,  -1,  -2,   0,   2,   1, -15,   1,  -2,\n",
       "        -3,  -1,   1,  -2,  -3,   2,  -1,   2,   3,   0,  -1,  -3,  -2,\n",
       "         1,   0,  -3,  -1,   3,  -3,   2,   2,  -1,   0,  -1,   3,   0,\n",
       "        -1,   3,   0,  -3,  -1,  -1,   1,   0,   2,   1,   4,   1,  -1,\n",
       "         3,  -1,  -3,  -1,  -1,  -2,   1,   2,   1,  -3,   2,   0,  -2,\n",
       "         0,  -3,  -3,   1,   0,   2,   0,   2,   5,   3,  -1,   3,   0,\n",
       "        -5,   0,   2,   1,  -2,  -2,   2,   0,  -1,   1,   0,  -6,   1,\n",
       "        -2,   0,  -1,   0,  -1,   1,   0,  -1,   0,  -2,  -2,   1,  -4,\n",
       "         0,   1,  -1,   2,   0,   0,   0,   3,   2,   0,   0,   1,   1,\n",
       "         0,   1,  -1,  -1,  -3,   1,  -1,   1,   1,  -1,   2,  -1,   2,\n",
       "         1,  -1,  -7,   1,   2,   2,   1,   1,  -3,  -1,   2,  -1,   0,\n",
       "         3,  -2,  -1,  -1,   3,   0,   1,   0,   0,   1,   3,   1,   2,\n",
       "         2,   0,   0,   0,   1,  -1,  -3,   1,  -2,  -5,  -1,   0,   0,\n",
       "         3,  -1,   1,   2,   2,   0,  -3,  -1,   1,   1,   1,  -4,   4,\n",
       "         1,   1,  -4,  -1,  -5,   1,  -1,  -2,   1,   2,   1,   0,  -1,\n",
       "         2,  -3,   0,   0,   1,  -5,   1,   0,   1,   1,   0,   1,   2,\n",
       "         4,  -6,  -2,   2,  -1,   2,  -1,  -1,  -1,   0,  -5,  -3,   0,\n",
       "        -2,  -1,   2,   2,  -1,   0,   2,   2,  -2,   2,   0,   0,   1,\n",
       "         3,   0,   0,  -2,  -6,   1,   3,   0,   2,   1,   2,   0,  -1,\n",
       "         3,   1,  -4,  -1,  -1,   3,   1,   3,  -1,   1,   1,   1,  -2,\n",
       "        -1,   1,  -2,   0,  -2,   2,   0,   0,   0,   1,   3,  -6,   3,\n",
       "         1,   0,  -2,   1,  -2,  -1,   2,   2,   0,  -1,   1,   1,   0,\n",
       "         0,  -3,   1,  -2,   0,   1,   0,  -5,  -3,   0,   1,  -1,   4,\n",
       "         2,   2,   1,   0,   0,  -2,   1,  -5,   1,   0,  -1,  -3,  -2,\n",
       "         1,   1,  -9,   2,   2,   0,   3,   0,  -1,  -1,  -2,   0,   0,\n",
       "         1,   0,  -1,   0,  -1,  -1,   2,   3,  -1,   2,   2,   0,   1,\n",
       "         3,   2,  -1,   4,   0,   0,   3,   1,  -3,  -1,   0,  -1,  -3,\n",
       "        -1,  -2,   1,  -1,   0,  -2,   0,   0,   1,   2,   1,   1,   0,\n",
       "         2,   2,  -3,  -1,   0,   0,  -1,  -2,   1,   0,  -1,   0,  -1,\n",
       "         2,  -8,   0,   3,   3,  -2,   0,   0,   0,   3,  -4,   0,   2,\n",
       "         1,  -3,   0,  -1,   3,   1,   0,   0,  -3,   0,   0,   0,   3,\n",
       "        -2,  -1,   2,   2,   2,   0,   2,   0,  -2,   1,  -2,   1,  -1,\n",
       "         0,  -4,  -2,   2,  -4,   3,  -2,   1,  -2,   1,   5,  -1,   1,\n",
       "         0,   3,   1,  -2,  -4,  -2,  -1,  -1,   2,   0,   1,   0,   2,\n",
       "         1,   3,  -1,  -5,  -1,   4,   0,  -4,   0,   1,  -1,   0,  -1,\n",
       "         0,  -1,   4,   0,  -3,   2,   3,   2,   3,  -4,   0,   1,   1,\n",
       "        -2,   1,  -1,  -2,  -1,  -1,  -1,   1,   1,   0,   1,  -1,   1,\n",
       "        -1,   0,   2,   3,   0,   1,   0,  -1,   3,  -1,   0,   0,   1,\n",
       "         1,  -3,   0,  -3,   2,  -2,  -4,   2,   2,   2,   2,   2,  -3,\n",
       "         3, -14,   3,   0,   4,   0,  -2,   0,   0,  -1,  -1,   0,   1,\n",
       "         1,   0,   1,  -3,   2,  -2,   0,   3,   0,   1,   3,  -2,   3,\n",
       "         0,   0,   2,   3,  -1,   2,   0,  -6,   2,   0,   3,  -3,  -5,\n",
       "         3,   1,   3,   0,   1,   3,  -4,   4,   1,  -3,  -3,   3,  -4,\n",
       "        -2,   0,   2,  -1,  -2,   1,   1,   2,  -6,   3,  -1,   1,   0,\n",
       "         3,  -2,   0,   0,   1,  -1,   1,  -1,   0,  -2,  -1,  -5,   0,\n",
       "        -2,   1,   2,   0,   1,   0,   0,   2,   3,   5,  -2,  -1,   1,\n",
       "        -3,  -1,   3,  -1,   2,   1,   1,   2,  -3,   3,  -3,   4,  -5,\n",
       "         3,  -1,   1,   0,   1,   2,   0,   0,  -4,   2,   2,   2,  -6,\n",
       "         1,   1,  -1,  -1, -18,   3,   2,   2,  -1,  -1,   3,  -4,   0,\n",
       "        -1,   1,   2,   0,  -2,   2,   0,   3,   1,  -5,   5,   0,   0,\n",
       "        -3,  -1,   1,   1,   3,   4,   2,   0,  -2,   1,   0,  -3,   0,\n",
       "         1,   1,  -1,   2,  -2,  -3,  -4,   0,   2,   1,   2,   1,   0])"
      ]
     },
     "execution_count": 110,
     "metadata": {},
     "output_type": "execute_result"
    }
   ],
   "source": [
    "((events>0).sum(axis=0)-(events<0).sum(axis=0))[50:]"
   ]
  },
  {
   "cell_type": "code",
   "execution_count": 89,
   "id": "b5c6a337",
   "metadata": {},
   "outputs": [
    {
     "data": {
      "text/plain": [
       "<AxesSubplot:>"
      ]
     },
     "execution_count": 89,
     "metadata": {},
     "output_type": "execute_result"
    },
    {
     "data": {
      "image/png": "[encoded data removed]",
      "text/plain": [
       "<Figure size 432x288 with 2 Axes>"
      ]
     },
     "metadata": {
      "needs_background": "light"
     },
     "output_type": "display_data"
    }
   ],
   "source": [
    "sns.heatmap(Actin_binding)"
   ]
  },
  {
   "cell_type": "code",
   "execution_count": 84,
   "id": "797241fb",
   "metadata": {},
   "outputs": [
    {
     "name": "stdout",
     "output_type": "stream",
     "text": [
      "Info) VMD for LINUXAMD64, version 1.9.4a55 (October 19, 2021)\n",
      "Info) http://www.ks.uiuc.edu/Research/vmd/                         \n",
      "Info) Email questions and bug reports to vmd@ks.uiuc.edu           \n",
      "Info) Please include this reference in published work using VMD:   \n",
      "Info)    Humphrey, W., Dalke, A. and Schulten, K., `VMD - Visual   \n",
      "Info)    Molecular Dynamics', J. Molec. Graphics 1996, 14.1, 33-38.\n",
      "Info) -------------------------------------------------------------\n",
      "Info) Multithreading available, 12 CPUs, ISA dispatch enabled.\n",
      "Info)   CPU features: SSE2 SSE4.1 AVX AVX2 FMA F16 HT \n",
      "Info) Free system memory: 91GB (72%)\n",
      "Info) Creating CUDA device pool and initializing hardware...\n",
      "Info) Detected 1 available CUDA accelerator::\n",
      "Info) [0] NVIDIA GeForce RTX 3080 Ti 80 SM_8.6 1.7 GHz, 12GB RAM SP32 KT AE2 ZC\n",
      "Info) OpenGL renderer: NVIDIA GeForce RTX 3080 Ti/PCIe/SSE2\n",
      "Info)   Features: STENCIL MSAA(4) MDE CVA MTX NPOT PP PS GLSL(OVFGS) \n",
      "Info)   Full GLSL rendering mode is available.\n",
      "Info)   Textures: 2-D (32768x32768), 3-D (16384x16384x16384), Multitexture (4)\n",
      "OpenGLDisplayDevice) Creating OptiX RTRT context...\n",
      "OpenGLDisplayDevice) OptiX RTRT context created.\n",
      "Info) Detected 1 available TachyonL/OptiX ray tracing accelerator\n",
      "Info)   Compiling  OptiX shaders on 1 target GPU...\n",
      "Info) Dynamically loaded 3 plugins in directory:\n",
      "Info) /usr/local/lib/vmd/plugins/LINUXAMD64/molfile\n",
      "Info) File loading in progress, please wait.\n",
      "Info) Using plugin pdbx for structure file /media/cb/SATA8TB/Simulations_July2022/Box/Epsilon_Box3uM_037_e_100_w_3.0_a_False_n_128_r_1.cif\n",
      "Info) Reading 0 graphics elements...\n",
      "Info) Using plugin pdbx for coordinates from file /media/cb/SATA8TB/Simulations_July2022/Box/Epsilon_Box3uM_037_e_100_w_3.0_a_False_n_128_r_1.cif\n",
      "Info) Determining bond structure from distance search ...\n",
      "Info) Finished with coordinate file /media/cb/SATA8TB/Simulations_July2022/Box/Epsilon_Box3uM_037_e_100_w_3.0_a_False_n_128_r_1.cif.\n",
      "Info) Analyzing structure ...\n",
      "Info)    Atoms: 2982\n",
      "Info)    Bonds: 0\n",
      "Info)    Angles: 0  Dihedrals: 0  Impropers: 0  Cross-terms: 0\n",
      "Info)    Bondtypes: 0  Angletypes: 0  Dihedraltypes: 0  Impropertypes: 0\n",
      "Info)    Residues: 2982\n",
      "Info)    Waters: 0\n",
      "Info)    Segments: 1\n",
      "Info)    Fragments: 2982   Protein: 0   Nucleic: 0\n",
      "dcdplugin) detected standard 32-bit DCD file of native endianness\n",
      "dcdplugin) CHARMM format DCD file (also NAMD 2.1 and later)\n",
      "Info) Using plugin dcd for coordinates from file /media/cb/SATA8TB/Simulations_July2022/Box/Epsilon_Box3uM_037_e_100_w_3.0_a_False_n_128_r_1.dcd\n",
      "Info) Finished with coordinate file /media/cb/SATA8TB/Simulations_July2022/Box/Epsilon_Box3uM_037_e_100_w_3.0_a_False_n_128_r_1.dcd.\n",
      "0\n",
      "graphics: invalid material: 0\n",
      "{{1 0 0 -5344.26} {0 1 0 -5613.75} {0 0 1 -4760.16} {0 0 0 1}} {{1 0 0 0} {0 1 0 0} {0 0 1 0} {0 0 0 1}} {{0.000258059 0 0 0} {0 0.000258059 0 0} {0 0 0.000258059 0} {0 0 0 1}} {{1 0 0 0.09} {0 1 0 0.16} {0 0 1 0} {0 0 0 1}}\n",
      "0\n",
      "0\n",
      "vmd > Info) VMD for LINUXAMD64, version 1.9.4a55 (October 19, 2021)\n",
      "Info) Exiting normally.\n",
      "OpenGLDisplayDevice) Destroying OptiX RTRT context...\n",
      "OpenGLDisplayDevice) OptiX RTRT context destroyed.\n"
     ]
    }
   ],
   "source": [
    "dcd=selected_simulation['dcd']\n",
    "cif=selected_simulation['cif']\n",
    "!vmd -e ../Box_vis_500.vmd $cif $dcd"
   ]
  },
  {
   "cell_type": "code",
   "execution_count": 223,
   "id": "029bdb8a",
   "metadata": {},
   "outputs": [
    {
     "name": "stderr",
     "output_type": "stream",
     "text": [
      "@> 10480 atoms and 1 coordinate set(s) were parsed in 0.09s.\n"
     ]
    },
    {
     "data": {
      "text/plain": [
       "Text(0, 0.5, 'Energy')"
      ]
     },
     "execution_count": 223,
     "metadata": {},
     "output_type": "execute_result"
    },
    {
     "data": {
      "image/png": "[encoded data removed]",
      "text/plain": [
       "<Figure size 720x720 with 2 Axes>"
      ]
     },
     "metadata": {
      "needs_background": "light"
     },
     "output_type": "display_data"
    }
   ],
   "source": [
    "selected_simulation=simulations.loc[0]\n",
    "\n",
    "root=selected_simulation['root']\n",
    "dcd=selected_simulation['dcd']\n",
    "cif=selected_simulation['cif']\n",
    "#!vmd -e ../Box_vis_500.vmd $cif $dcd\n",
    "\n",
    "\n",
    "cif=prody.parseMMCIF(selected_simulation['cif'])\n",
    "pdbx=mdtraj.formats.pdbx.load_pdbx(selected_simulation['cif'])\n",
    "dcd=mdtraj.load_dcd(selected_simulation['dcd'],top=pdbx)\n",
    "dcd.unitcell_vectors=np.array([[[500,0,0],[0,500,0],[0,0,500]]]*len(dcd))\n",
    "\n",
    "s={}\n",
    "for name in ['Aa','Ab','Ac','Ca','Cb','Cd']:\n",
    "    selection=cif.select(f'name {name}')\n",
    "    #dcd.setAtoms(selection)\n",
    "    s.update({name:selection.getIndices()})\n",
    "#d1=np.array([sdist.cdist(a,b) for a,b in zip(s['Aa'],s['Ca'])])\n",
    "#d2=np.array([sdist.cdist(a,b) for a,b in zip(s['Ab'],s['Cb'])])dd_temp\n",
    "#d3=np.array([sdist.cdist(a,b) for a,b in zip(s['Ac'],s['Cd'])])\n",
    "\n",
    "selection=cif.select('name Ca')\n",
    "\n",
    "d1=mdtraj.compute_distances(dcd[::stride],np.array([a for a in itertools.product(s['Aa'],s['Ca'])]),periodic=True)\n",
    "d2=mdtraj.compute_distances(dcd[::stride],np.array([a for a in itertools.product(s['Ab'],s['Cb'])]),periodic=True)\n",
    "d3=mdtraj.compute_distances(dcd[::stride],np.array([a for a in itertools.product(s['Ac'],s['Cd'])]),periodic=True)\n",
    "\n",
    "actin_com=(dcd[::stride].xyz[:,s['Aa']]+dcd[::stride].xyz[:,s['Ab']]+dcd[::stride].xyz[:,s['Ac']])/3\n",
    "abp_com=(dcd[::stride].xyz[:,s['Ca']]+dcd[::stride].xyz[:,s['Cb']]+dcd[::stride].xyz[:,s['Cd']])/3\n",
    "translation=np.expand_dims(abp_com,axis=1)-np.expand_dims(actin_com,axis=2)\n",
    "rmsd_abp=((((np.expand_dims(dcd[::stride].xyz[:,s['Ca']],axis=1)-translation-np.expand_dims(dcd[::stride].xyz[:,s['Aa']],axis=2))**2).sum(axis=3)+\n",
    "           ((np.expand_dims(dcd[::stride].xyz[:,s['Cb']],axis=1)-translation-np.expand_dims(dcd[::stride].xyz[:,s['Ab']],axis=2))**2).sum(axis=3)+\n",
    "           ((np.expand_dims(dcd[::stride].xyz[:,s['Cd']],axis=1)-translation-np.expand_dims(dcd[::stride].xyz[:,s['Ac']],axis=2))**2).sum(axis=3))/3)**.5\n",
    "rmsd_abp.shape\n",
    "\n",
    "dd=(d1**2+d2**2+d3**2)/3\n",
    "g1=-1*(np.exp(-dd/1.0)+np.exp(-dd/0.01*1.0))/2*(d1<12.0)\n",
    "g1.shape\n",
    "\n",
    "g2=g1.reshape(len(g1),len(s['Aa']),len(s['Ca']))\n",
    "g2.shape\n",
    "\n",
    "g3_total_bind = (g2<-0.2).sum(axis=1).T>0\n",
    "g3_partial_bind = (g2<0).sum(axis=1).T > 0\n",
    "g3_states=[g3_total_bind[:,0]]\n",
    "for t in range(1,len(g3_total_bind.T)):\n",
    "    g3_state=g3_total_bind[:,t] | (g3_states[-1] & g3_partial_bind[:,t])\n",
    "    g3_states+=[g3_state]\n",
    "g3=np.array(g3_states).T\n",
    "Actin_binding=g3*1\n",
    "\n",
    "g3_total_bind = (g2<-0.2).sum(axis=2).T>0\n",
    "g3_partial_bind = (g2<0).sum(axis=2).T > 0\n",
    "g3_states=[g3_total_bind[:,0]]\n",
    "for t in range(1,len(g3_total_bind.T)):\n",
    "    g3_state=g3_total_bind[:,t] | (g3_states[-1] & g3_partial_bind[:,t])\n",
    "    g3_states+=[g3_state]\n",
    "g3=np.array(g3_states).T\n",
    "ABP_binding=g3*1\n",
    "\n",
    "\n",
    "Actin_binding[0].sum()\n",
    "\n",
    "Actin_binding_pair=g2.argmin(axis=1).T\n",
    "ABP_binding_pair=g2.argmin(axis=2).T\n",
    "Actin_binding_pair[Actin_binding==0]=-99999\n",
    "ABP_binding_pair[ABP_binding==0]=-99999\n",
    "\n",
    "fig,(ax1,ax2)=plt.subplots(2,figsize=(10,10))\n",
    "fig,ax=pyemma.plots.plot_free_energy(np.log10((dd**.5).ravel()),rmsd_abp.ravel(),cmap='viridis',\n",
    "                                     ax=ax1,cbar=False,vmin=0,vmax=12)\n",
    "#ax.set_xlim(-3,4)\n",
    "ax1.set_xlim(-1.5,2.5)\n",
    "ax1.set_ylim(0,2)\n",
    "ax1.set_xticks(np.arange(-1,3))\n",
    "ax1.set_xticklabels([rf'$10^{{{round(i,1)}}}$' for i in np.arange(-1,3)])\n",
    "ax1.set_xlabel('ABP-Binding site distance (nm)')\n",
    "ax1.set_ylabel('ABP-Binding site RMSD (nm)')\n",
    "epsilon=float(selected_simulation['epsilon'])\n",
    "w1=float(selected_simulation['w1'])\n",
    "w2=float(selected_simulation['w1'])*float(selected_simulation['w2_ratio'])\n",
    "\n",
    "x=np.logspace(-2,3,500)\n",
    "y=-epsilon*(np.exp(-x**2/w1)+np.exp(-x**2/w2))/2*(x<120)\n",
    "ax2.plot(x,y)\n",
    "ax2.set_ylim(-epsilon,0)\n",
    "ax2.set_xlim(10**-1.5,10**2.5)\n",
    "ax2.semilogx()\n",
    "ax2.set_xlabel('ABP-Binding site distance (nm)')\n",
    "ax2.set_ylabel('Energy')"
   ]
  },
  {
   "cell_type": "code",
   "execution_count": 224,
   "id": "f9b924e0",
   "metadata": {},
   "outputs": [
    {
     "data": {
      "text/plain": [
       "[<matplotlib.lines.Line2D at 0x7f2eefb954e0>]"
      ]
     },
     "execution_count": 224,
     "metadata": {},
     "output_type": "execute_result"
    },
    {
     "data": {
      "image/png": "[encoded data removed]",
      "text/plain": [
       "<Figure size 432x288 with 1 Axes>"
      ]
     },
     "metadata": {
      "needs_background": "light"
     },
     "output_type": "display_data"
    }
   ],
   "source": [
    "plt.plot(ABP_binding.sum(axis=0)/len(ABP_binding))\n",
    "plt.plot(Actin_binding.sum(axis=0)/len(Actin_binding))"
   ]
  },
  {
   "cell_type": "code",
   "execution_count": 212,
   "id": "cdc131e3",
   "metadata": {},
   "outputs": [
    {
     "data": {
      "image/png": "[encoded data removed]",
      "text/plain": [
       "<Figure size 432x288 with 2 Axes>"
      ]
     },
     "metadata": {
      "needs_background": "light"
     },
     "output_type": "display_data"
    }
   ],
   "source": [
    "fig,ax=pyemma.plots.plot_free_energy((dd**.5).ravel(),d1.ravel(),cmap='viridis')"
   ]
  },
  {
   "cell_type": "code",
   "execution_count": 201,
   "id": "89aac471",
   "metadata": {},
   "outputs": [
    {
     "data": {
      "text/plain": [
       "<matplotlib.patches.Rectangle at 0x7f2eeedfc9e8>"
      ]
     },
     "execution_count": 201,
     "metadata": {},
     "output_type": "execute_result"
    },
    {
     "data": {
      "image/png": "[encoded data removed]",
      "text/plain": [
       "<Figure size 720x360 with 2 Axes>"
      ]
     },
     "metadata": {
      "needs_background": "light"
     },
     "output_type": "display_data"
    }
   ],
   "source": [
    "import matplotlib.patches as patches\n",
    "plt.figure(figsize=(10,5))\n",
    "fig,ax=pyemma.plots.plot_free_energy(np.log10((dd**.5).ravel()),rmsd_abp.ravel(),cmap='viridis')\n",
    "ax.set_xlim(-1.5,2.5)\n",
    "ax.set_ylim(0,2)\n",
    "ax.set_xticks(np.arange(-1,3))\n",
    "ax.set_xticklabels([rf'$10^{{{round(i,1)}}}$' for i in np.arange(-1,3)])\n",
    "ax.set_xlabel('ABP-Binding site distance')\n",
    "ax.set_ylabel('ABP-Binding site RMSD')\n",
    "dd_lims=(1,2) #Square1\n",
    "rmsd_lims=(1,1.5) #Square1\n",
    "#dd_lims=(2,4) #Square2\n",
    "#rmsd_lims=(0.7,1.75) #Square2\n",
    "\n",
    "rect = patches.Rectangle((np.log10(dd_lims[0]), rmsd_lims[0]), \n",
    "                         np.log10(dd_lims[1])-np.log10(dd_lims[0]), \n",
    "                         rmsd_lims[1]-rmsd_lims[0], linewidth=1, edgecolor='r', facecolor='none')\n",
    "ax.add_patch(rect)"
   ]
  },
  {
   "cell_type": "code",
   "execution_count": 202,
   "id": "f5ff3aa7",
   "metadata": {},
   "outputs": [
    {
     "data": {
      "text/plain": [
       "<AxesSubplot:>"
      ]
     },
     "execution_count": 202,
     "metadata": {},
     "output_type": "execute_result"
    },
    {
     "data": {
      "image/png": "[encoded data removed]",
      "text/plain": [
       "<Figure size 1440x1440 with 2 Axes>"
      ]
     },
     "metadata": {
      "needs_background": "light"
     },
     "output_type": "display_data"
    }
   ],
   "source": [
    "dd_temp=(dd**.5).reshape(rmsd_abp.shape)\n",
    "selection=((dd_temp>=dd_lims[0]) & (dd_temp<=dd_lims[1]) & (rmsd_abp>=rmsd_lims[0]) & (rmsd_abp<=rmsd_lims[1])).reshape(rmsd_abp.shape)\n",
    "plt.figure(figsize=(20,20))\n",
    "sns.heatmap(selection.sum(axis=0))"
   ]
  },
  {
   "cell_type": "code",
   "execution_count": 203,
   "id": "0f8c9714",
   "metadata": {},
   "outputs": [
    {
     "data": {
      "text/plain": [
       "(415, 415)"
      ]
     },
     "execution_count": 203,
     "metadata": {},
     "output_type": "execute_result"
    }
   ],
   "source": [
    "selection.sum(),selection.sum(axis=0).max()"
   ]
  },
  {
   "cell_type": "code",
   "execution_count": 204,
   "id": "e8d944f1",
   "metadata": {},
   "outputs": [
    {
     "name": "stdout",
     "output_type": "stream",
     "text": [
      "(900, 146)\n",
      "890\n"
     ]
    },
    {
     "data": {
      "image/png": "[encoded data removed]",
      "text/plain": [
       "<Figure size 432x288 with 1 Axes>"
      ]
     },
     "metadata": {
      "needs_background": "light"
     },
     "output_type": "display_data"
    }
   ],
   "source": [
    "example_binding=np.unravel_index(selection.sum(axis=0).argmax(),selection.shape[1:])\n",
    "print(example_binding)\n",
    "plt.plot(selection[:,example_binding[0],example_binding[1]])\n",
    "print(selection[:,example_binding[0],example_binding[1]].argmax()*5)"
   ]
  },
  {
   "cell_type": "code",
   "execution_count": 205,
   "id": "be536582",
   "metadata": {},
   "outputs": [
    {
     "name": "stdout",
     "output_type": "stream",
     "text": [
      "9083 9084 9085 10318 10319 10320\n"
     ]
    }
   ],
   "source": [
    "print(s['Aa'][example_binding[0]],s['Ab'][example_binding[0]],s['Ac'][example_binding[0]],\n",
    "      s['Ca'][example_binding[1]],s['Cb'][example_binding[1]],s['Cd'][example_binding[1]])\n"
   ]
  },
  {
   "cell_type": "code",
   "execution_count": 207,
   "id": "520f3a48",
   "metadata": {
    "scrolled": true
   },
   "outputs": [
    {
     "name": "stdout",
     "output_type": "stream",
     "text": [
      "Info) VMD for LINUXAMD64, version 1.9.4a55 (October 19, 2021)\n",
      "Info) http://www.ks.uiuc.edu/Research/vmd/                         \n",
      "Info) Email questions and bug reports to vmd@ks.uiuc.edu           \n",
      "Info) Please include this reference in published work using VMD:   \n",
      "Info)    Humphrey, W., Dalke, A. and Schulten, K., `VMD - Visual   \n",
      "Info)    Molecular Dynamics', J. Molec. Graphics 1996, 14.1, 33-38.\n",
      "Info) -------------------------------------------------------------\n",
      "Info) Multithreading available, 12 CPUs, ISA dispatch enabled.\n",
      "Info)   CPU features: SSE2 SSE4.1 AVX AVX2 FMA F16 HT \n",
      "Info) Free system memory: 42GB (66%)\n",
      "Info) Creating CUDA device pool and initializing hardware...\n",
      "Info) Detected 1 available CUDA accelerator::\n",
      "Info) [0] NVIDIA GeForce RTX 3080 Ti 80 SM_8.6 1.7 GHz, 12GB RAM SP32 KT AE2 ZC\n",
      "Info) OpenGL renderer: NVIDIA GeForce RTX 3080 Ti/PCIe/SSE2\n",
      "Info)   Features: STENCIL MSAA(4) MDE CVA MTX NPOT PP PS GLSL(OVFGS) \n",
      "Info)   Full GLSL rendering mode is available.\n",
      "Info)   Textures: 2-D (32768x32768), 3-D (16384x16384x16384), Multitexture (4)\n",
      "OpenGLDisplayDevice) Creating OptiX RTRT context...\n",
      "OpenGLDisplayDevice) OptiX RTRT context created.\n",
      "Info) Detected 1 available TachyonL/OptiX ray tracing accelerator\n",
      "Info)   Compiling  OptiX shaders on 1 target GPU...\n",
      "Info) Dynamically loaded 3 plugins in directory:\n",
      "Info) /usr/local/lib/vmd/plugins/LINUXAMD64/molfile\n",
      "Info) File loading in progress, please wait.\n",
      "Info) Using plugin pdbx for structure file ../Simulations/Epsilon_W_Standardization/S_000_e_500_w_5_w_0.1_a_FAS.cif\n",
      "Info) Reading 0 graphics elements...\n",
      "Info) Using plugin pdbx for coordinates from file ../Simulations/Epsilon_W_Standardization/S_000_e_500_w_5_w_0.1_a_FAS.cif\n",
      "Info) Determining bond structure from distance search ...\n",
      "Info) Finished with coordinate file ../Simulations/Epsilon_W_Standardization/S_000_e_500_w_5_w_0.1_a_FAS.cif.\n",
      "Info) Analyzing structure ...\n",
      "Info)    Atoms: 10480\n",
      "Info)    Bonds: 0\n",
      "Info)    Angles: 0  Dihedrals: 0  Impropers: 0  Cross-terms: 0\n",
      "Info)    Bondtypes: 0  Angletypes: 0  Dihedraltypes: 0  Impropertypes: 0\n",
      "Info)    Residues: 10480\n",
      "Info)    Waters: 0\n",
      "Info)    Segments: 1\n",
      "Info)    Fragments: 10480   Protein: 0   Nucleic: 0\n",
      "dcdplugin) detected standard 32-bit DCD file of native endianness\n",
      "dcdplugin) CHARMM format DCD file (also NAMD 2.1 and later)\n",
      "Info) Using plugin dcd for coordinates from file ../Simulations/Epsilon_W_Standardization/S_000_e_500_w_5_w_0.1_a_FAS.dcd\n",
      "Info) Finished with coordinate file ../Simulations/Epsilon_W_Standardization/S_000_e_500_w_5_w_0.1_a_FAS.dcd.\n",
      "0\n",
      "graphics: invalid material: 0\n",
      "{{1 0 0 -5344.26} {0 1 0 -5613.75} {0 0 1 -4760.16} {0 0 0 1}} {{1 0 0 0} {0 1 0 0} {0 0 1 0} {0 0 0 1}} {{0.000258059 0 0 0} {0 0.000258059 0 0} {0 0 0.000258059 0} {0 0 0 1}} {{1 0 0 0.09} {0 1 0 0.16} {0 0 1 0} {0 0 0 1}}\n",
      "0\n",
      "0\n",
      "vmd > X_ChangeProperty: BadValue (integer parameter out of range for operation) 0x40\n",
      "X_ChangeProperty: BadValue (integer parameter out of range for operation) 0x40\n",
      "X_ChangeProperty: BadValue (integer parameter out of range for operation) 0x40\n",
      "Info) picked atom: \n",
      "Info) ------------\n",
      "Info) molecule id: 0\n",
      "Info) trajectory frame: 2970\n",
      "Info) name: Cb\n",
      "Info) type: Cb\n",
      "Info) index: 10322\n",
      "Info) residue: 10322\n",
      "Info) resname: FAS\n",
      "Info) resid: 147\n",
      "Info) chain: AV1\n",
      "Info) \n",
      "Info) segname: \n",
      "Info) x: 3603.149170\n",
      "Info) y: 2886.981445\n",
      "Info) z: 2326.165039\n",
      "Info) Added new Atoms label FAS147:Cb\n",
      "Info) picked atom: \n",
      "Info) ------------\n",
      "Info) molecule id: 0\n",
      "Info) trajectory frame: 2970\n",
      "Info) name: Cb\n",
      "Info) type: Cb\n",
      "Info) index: 10319\n",
      "Info) residue: 10319\n",
      "Info) resname: FAS\n",
      "Info) resid: 146\n",
      "Info) chain: AV1\n",
      "Info) \n",
      "Info) segname: \n",
      "Info) x: 3585.573975\n",
      "Info) y: 2891.333008\n",
      "Info) z: 2342.166016\n",
      "Info) Added new Atoms label FAS146:Cb\n",
      "Info) Added new Bonds label FAS146:Cb/FAS147:Cb = 24.163088\n",
      "Info) VMD for LINUXAMD64, version 1.9.4a55 (October 19, 2021)\n",
      "Info) Exiting normally.\n",
      "OpenGLDisplayDevice) Destroying OptiX RTRT context...\n",
      "OpenGLDisplayDevice) OptiX RTRT context destroyed.\n"
     ]
    }
   ],
   "source": [
    "dcd=selected_simulation['dcd']\n",
    "cif=selected_simulation['cif']\n",
    "!vmd -e ../Box_vis_500.vmd $cif $dcd"
   ]
  },
  {
   "cell_type": "code",
   "execution_count": 275,
   "id": "a207f70a",
   "metadata": {},
   "outputs": [
    {
     "data": {
      "text/plain": [
       "(705, 196000)"
      ]
     },
     "execution_count": 275,
     "metadata": {},
     "output_type": "execute_result"
    }
   ],
   "source": [
    "#Stay time\n",
    "#Kon ->per ABP site/per ABP\n",
    "#Koff\n",
    "#1D Diffusion\n",
    "\n",
    "\n",
    "g1.shape"
   ]
  },
  {
   "cell_type": "code",
   "execution_count": 276,
   "id": "dd6b465a",
   "metadata": {},
   "outputs": [
    {
     "data": {
      "text/plain": [
       "97883"
      ]
     },
     "execution_count": 276,
     "metadata": {},
     "output_type": "execute_result"
    }
   ],
   "source": [
    "g1.sum(axis=0).argmin()"
   ]
  },
  {
   "cell_type": "code",
   "execution_count": 277,
   "id": "4e1bdd01",
   "metadata": {},
   "outputs": [
    {
     "data": {
      "text/plain": [
       "(432.53467, 0.04042675)"
      ]
     },
     "execution_count": 277,
     "metadata": {},
     "output_type": "execute_result"
    }
   ],
   "source": [
    "d1.max(),d1.min()"
   ]
  },
  {
   "cell_type": "code",
   "execution_count": 550,
   "id": "413fc0ef",
   "metadata": {},
   "outputs": [
    {
     "data": {
      "text/plain": [
       "(-1.0, 0.0)"
      ]
     },
     "execution_count": 550,
     "metadata": {},
     "output_type": "execute_result"
    },
    {
     "data": {
      "image/png": "[encoded data removed]",
      "text/plain": [
       "<Figure size 432x288 with 1 Axes>"
      ]
     },
     "metadata": {
      "needs_background": "light"
     },
     "output_type": "display_data"
    }
   ],
   "source": [
    "import matplotlib.pyplot as plt\n",
    "%matplotlib inline\n",
    "h=plt.hist(g1.ravel(),bins=500)\n",
    "#plt.semilogy()\n",
    "plt.ylim(1,h[0][:-1].max())\n",
    "plt.xlim(-1,0)"
   ]
  },
  {
   "cell_type": "code",
   "execution_count": 126,
   "id": "6bcdfee7",
   "metadata": {},
   "outputs": [
    {
     "data": {
      "text/plain": [
       "<matplotlib.image.AxesImage at 0x7f6376673240>"
      ]
     },
     "execution_count": 126,
     "metadata": {},
     "output_type": "execute_result"
    },
    {
     "data": {
      "image/png": "[encoded data removed]",
      "text/plain": [
       "<Figure size 432x288 with 1 Axes>"
      ]
     },
     "metadata": {
      "needs_background": "light"
     },
     "output_type": "display_data"
    }
   ],
   "source": [
    "plt.imshow(g1[:,g1.sum(axis=0)<0].T)"
   ]
  },
  {
   "cell_type": "code",
   "execution_count": 25,
   "id": "903e71e2",
   "metadata": {},
   "outputs": [
    {
     "data": {
      "text/plain": [
       "'2.4'"
      ]
     },
     "execution_count": 25,
     "metadata": {},
     "output_type": "execute_result"
    }
   ],
   "source": [
    "import pyemma\n",
    "pyemma.__version__"
   ]
  },
  {
   "cell_type": "code",
   "execution_count": 157,
   "id": "24ead426",
   "metadata": {},
   "outputs": [
    {
     "name": "stdout",
     "output_type": "stream",
     "text": [
      "[[0.99748292 0.00251708]\n",
      " [0.73532338 0.26467662]]\n",
      "[[0.99736444 0.00263556]\n",
      " [0.78198108 0.21801892]]\n",
      "[[0.99735022 0.00264978]\n",
      " [0.79720976 0.20279024]]\n",
      "[[0.99730454 0.00269546]\n",
      " [0.8159601  0.1840399 ]]\n",
      "[[0.99728145 0.00271855]\n",
      " [0.82875686 0.17124314]]\n",
      "[[0.99728456 0.00271544]\n",
      " [0.83416583 0.16583417]]\n",
      "[[0.99725963 0.00274037]\n",
      " [0.84792396 0.15207604]]\n",
      "[[0.99729608 0.00270392]\n",
      " [0.8432649  0.1567351 ]]\n",
      "[[0.99724999 0.00275001]\n",
      " [0.85914787 0.14085213]]\n",
      "[[0.99728302 0.00271698]\n",
      " [0.85283777 0.14716223]]\n",
      "[[0.99725795 0.00274205]\n",
      " [0.86260694 0.13739306]]\n",
      "[[0.9972434 0.0027566]\n",
      " [0.8698941 0.1301059]]\n",
      "[[0.99722174 0.00277826]\n",
      " [0.87670541 0.12329459]]\n",
      "[[0.9972372  0.0027628 ]\n",
      " [0.87348178 0.12651822]]\n",
      "[[0.9972527  0.0027473 ]\n",
      " [0.87031408 0.12968592]]\n",
      "[[0.99722029 0.00277971]\n",
      " [0.88235294 0.11764706]]\n",
      "[[0.99722336 0.00277664]\n",
      " [0.88268156 0.11731844]]\n",
      "[[0.99718369 0.00281631]\n",
      " [0.89730554 0.10269446]]\n",
      "[[0.99721347 0.00278653]\n",
      " [0.89013225 0.10986775]]\n"
     ]
    }
   ],
   "source": [
    "temp=g1[:,g1.sum(axis=0)<0].T<0\n",
    "temp=temp.astype(int)\n",
    "for lag in range(1,20):\n",
    "    msm=pyemma.msm.estimate_markov_model(temp.tolist(),lag=lag)\n",
    "    print(msm.transition_matrix)"
   ]
  },
  {
   "cell_type": "code",
   "execution_count": 99,
   "id": "d3f942b9",
   "metadata": {},
   "outputs": [
    {
     "name": "stderr",
     "output_type": "stream",
     "text": [
      "/home/cb/miniconda3/envs/openmm_dev/lib/python3.6/site-packages/ipykernel_launcher.py:1: DeprecationWarning: np.asscalar(a) is deprecated since NumPy v1.16, use a.item() instead\n",
      "  \"\"\"Entry point for launching an IPython kernel.\n"
     ]
    },
    {
     "ename": "ValueError",
     "evalue": "can only convert an array of size 1 to a Python scalar",
     "output_type": "error",
     "traceback": [
      "\u001b[0;31m---------------------------------------------------------------------------\u001b[0m",
      "\u001b[0;31mValueError\u001b[0m                                Traceback (most recent call last)",
      "\u001b[0;32m<ipython-input-99-529f137160e0>\u001b[0m in \u001b[0;36m<module>\u001b[0;34m()\u001b[0m\n\u001b[0;32m----> 1\u001b[0;31m \u001b[0mnp\u001b[0m\u001b[0;34m.\u001b[0m\u001b[0masscalar\u001b[0m\u001b[0;34m(\u001b[0m\u001b[0mg1\u001b[0m\u001b[0;34m)\u001b[0m\u001b[0;34m\u001b[0m\u001b[0;34m\u001b[0m\u001b[0m\n\u001b[0m",
      "\u001b[0;32m<__array_function__ internals>\u001b[0m in \u001b[0;36masscalar\u001b[0;34m(*args, **kwargs)\u001b[0m\n",
      "\u001b[0;32m/home/cb/miniconda3/envs/openmm_dev/lib/python3.6/site-packages/numpy/lib/type_check.py\u001b[0m in \u001b[0;36masscalar\u001b[0;34m(a)\u001b[0m\n\u001b[1;32m    579\u001b[0m     \u001b[0;36m24\u001b[0m\u001b[0;34m\u001b[0m\u001b[0;34m\u001b[0m\u001b[0m\n\u001b[1;32m    580\u001b[0m     \"\"\"\n\u001b[0;32m--> 581\u001b[0;31m     \u001b[0;32mreturn\u001b[0m \u001b[0ma\u001b[0m\u001b[0;34m.\u001b[0m\u001b[0mitem\u001b[0m\u001b[0;34m(\u001b[0m\u001b[0;34m)\u001b[0m\u001b[0;34m\u001b[0m\u001b[0;34m\u001b[0m\u001b[0m\n\u001b[0m\u001b[1;32m    582\u001b[0m \u001b[0;34m\u001b[0m\u001b[0m\n\u001b[1;32m    583\u001b[0m \u001b[0;31m#-----------------------------------------------------------------------------\u001b[0m\u001b[0;34m\u001b[0m\u001b[0;34m\u001b[0m\u001b[0;34m\u001b[0m\u001b[0m\n",
      "\u001b[0;31mValueError\u001b[0m: can only convert an array of size 1 to a Python scalar"
     ]
    }
   ],
   "source": [
    "np.asscalar(g1)"
   ]
  },
  {
   "cell_type": "code",
   "execution_count": 94,
   "id": "52d0823f",
   "metadata": {},
   "outputs": [
    {
     "data": {
      "text/plain": [
       "array([-0., -0., -0., -0., -0., -0., -0., -0., -0., -0., -0., -0., -0.,\n",
       "       -0., -0., -0., -0., -0., -0., -0., -0., -0., -0., -0., -0., -0.,\n",
       "       -0., -0., -0., -0., -0., -0., -0., -0., -0., -0., -0., -0., -0.,\n",
       "       -0., -0., -0., -0., -0., -0., -0., -0., -0., -0., -0., -0., -0.,\n",
       "       -0., -0., -0., -0., -0., -0., -0., -0., -0., -0., -0., -0., -0.,\n",
       "       -0., -0., -0., -0., -0., -0., -0., -0., -0., -0., -0., -0., -0.,\n",
       "       -0., -0., -0., -0., -0., -0., -0., -0., -0., -0., -0., -0., -0.,\n",
       "       -0., -0., -0., -0., -0., -0., -0., -0., -0.], dtype=float32)"
      ]
     },
     "execution_count": 94,
     "metadata": {},
     "output_type": "execute_result"
    }
   ],
   "source": [
    "np.random.choice(g1[:1000].ravel(),100)"
   ]
  },
  {
   "cell_type": "code",
   "execution_count": 95,
   "id": "f1914421",
   "metadata": {},
   "outputs": [
    {
     "data": {
      "text/plain": [
       "(38, 3, 3)"
      ]
     },
     "execution_count": 95,
     "metadata": {},
     "output_type": "execute_result"
    }
   ],
   "source": [
    "np.array([[[1,0,0],[0,1,0],[0,0,1]]]*len(dcd)).shape"
   ]
  },
  {
   "cell_type": "code",
   "execution_count": 13,
   "id": "726b37b6",
   "metadata": {},
   "outputs": [
    {
     "data": {
      "text/plain": [
       "(15829,)"
      ]
     },
     "execution_count": 13,
     "metadata": {},
     "output_type": "execute_result"
    }
   ],
   "source": [
    "dcd.unitcell_distances."
   ]
  },
  {
   "cell_type": "code",
   "execution_count": null,
   "id": "d91adc91",
   "metadata": {},
   "outputs": [],
   "source": []
  }
 ],
 "metadata": {
  "kernelspec": {
   "display_name": "Python [conda env:openmm_dev]",
   "language": "python",
   "name": "conda-env-openmm_dev-py"
  },
  "language_info": {
   "codemirror_mode": {
    "name": "ipython",
    "version": 3
   },
   "file_extension": ".py",
   "mimetype": "text/x-python",
   "name": "python",
   "nbconvert_exporter": "python",
   "pygments_lexer": "ipython3",
   "version": "3.6.15"
  },
  "toc": {
   "base_numbering": 1,
   "nav_menu": {},
   "number_sections": true,
   "sideBar": true,
   "skip_h1_title": false,
   "title_cell": "Table of Contents",
   "title_sidebar": "Contents",
   "toc_cell": false,
   "toc_position": {},
   "toc_section_display": true,
   "toc_window_display": false
  }
 },
 "nbformat": 4,
 "nbformat_minor": 5
}
